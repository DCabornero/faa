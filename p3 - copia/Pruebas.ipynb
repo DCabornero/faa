{
 "cells": [
  {
   "cell_type": "code",
   "execution_count": 141,
   "metadata": {
    "scrolled": true
   },
   "outputs": [
    {
     "name": "stdout",
     "output_type": "stream",
     "text": [
      "[array([False,  True, False,  True,  True, False,  True, False,  True,\n",
      "       False]), array([ True,  True, False, False,  True])]\n",
      "[array([False,  True, False,  True,  True, False,  True, False,  True,\n",
      "       False,  True,  True, False, False,  True]), array([False, False,  True, False, False])]\n",
      "[ True  True  True  True  True  True  True  True  True  True  True  True\n",
      "  True  True  True]\n",
      "[ True  True  True  True  True]\n"
     ]
    }
   ],
   "source": [
    "from Clasificador import AlgoritmoGenetico\n",
    "import numpy as np\n",
    "from Datos import Datos\n",
    "from EstrategiaParticionado import ValidacionSimple\n",
    "\n",
    "# val = ValidacionSimple(0.5)\n",
    "# dataset = Datos('titanic.csv',allNominal=True)\n",
    "alg = AlgoritmoGenetico(probMutacionBit=0.9)\n",
    "\n",
    "alg.lenRegla = 5\n",
    "ind1 = np.random.randint(2,size=(10)).astype(bool)\n",
    "ind2 = np.random.randint(2,size=(5)).astype(bool)\n",
    "poblacion = [ind1,ind2]\n",
    "print(poblacion)\n",
    "\n",
    "# alg.splitAtributos = np.array([2,4])\n",
    "# alg.prior = 0\n",
    "# trainSet = np.array([[0,1,1],[1,1,0]])\n",
    "a = alg.mutarPoblacion(poblacion)\n",
    "print(a)\n",
    "print(np.equal(a[0],poblacion[0]))\n",
    "print(np.equal(a[1],poblacion[1]))\n",
    "\n",
    "# alg.entrenamiento(dataset.datos,dataset.nominalAtributos,dataset.diccionario)\n"
   ]
  },
  {
   "cell_type": "code",
   "execution_count": 2,
   "metadata": {
    "scrolled": true
   },
   "outputs": [],
   "source": [
    "# alg.validacion(val,dataset)"
   ]
  },
  {
   "cell_type": "code",
   "execution_count": 3,
   "metadata": {},
   "outputs": [],
   "source": [
    "# Podemos guardar los individuos, porque como los perdamos cada vez que hagamos un cambio me pego un tiro tronko\n",
    "# np.save(\"individuo.npy\", alg.individuo)\n",
    "# print(np.load('individuo.npy'))"
   ]
  },
  {
   "cell_type": "code",
   "execution_count": null,
   "metadata": {},
   "outputs": [],
   "source": []
  },
  {
   "cell_type": "code",
   "execution_count": null,
   "metadata": {},
   "outputs": [],
   "source": []
  },
  {
   "cell_type": "code",
   "execution_count": null,
   "metadata": {},
   "outputs": [],
   "source": []
  }
 ],
 "metadata": {
  "kernelspec": {
   "display_name": "Python 3",
   "language": "python",
   "name": "python3"
  },
  "language_info": {
   "codemirror_mode": {
    "name": "ipython",
    "version": 3
   },
   "file_extension": ".py",
   "mimetype": "text/x-python",
   "name": "python",
   "nbconvert_exporter": "python",
   "pygments_lexer": "ipython3",
   "version": "3.8.3"
  }
 },
 "nbformat": 4,
 "nbformat_minor": 4
}
