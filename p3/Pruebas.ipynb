{
 "cells": [
  {
   "cell_type": "code",
   "execution_count": 25,
   "metadata": {},
   "outputs": [
    {
     "name": "stdout",
     "output_type": "stream",
     "text": [
      "[[1 1 1 1 1]\n",
      " [0 0 1 0 0]\n",
      " [1 1 1 1 0]]\n",
      "[1 0]\n",
      "0\n"
     ]
    }
   ],
   "source": [
    "from Clasificador import AlgoritmoGenetico\n",
    "import numpy as np\n",
    "\n",
    "\n",
    "ind1 = np.random.randint(2,size=(3*5))\n",
    "print(ind1.reshape(3,5))\n",
    "alg = AlgoritmoGenetico()\n",
    "\n",
    "\n",
    "# ind2 = [0,1,1,1,0,0,1]\n",
    "\n",
    "# inds = np.array([ind1,ind2])\n",
    "\n",
    "sample = np.array([0,1])\n",
    "alg.splitAtributos = [2,4]\n",
    "alg.prior = 0\n",
    "\n",
    "print(alg.prediceClase(ind1,sample))"
   ]
  },
  {
   "cell_type": "code",
   "execution_count": null,
   "metadata": {},
   "outputs": [],
   "source": []
  }
 ],
 "metadata": {
  "kernelspec": {
   "display_name": "Python 3",
   "language": "python",
   "name": "python3"
  },
  "language_info": {
   "codemirror_mode": {
    "name": "ipython",
    "version": 3
   },
   "file_extension": ".py",
   "mimetype": "text/x-python",
   "name": "python",
   "nbconvert_exporter": "python",
   "pygments_lexer": "ipython3",
   "version": "3.8.3"
  }
 },
 "nbformat": 4,
 "nbformat_minor": 4
}
