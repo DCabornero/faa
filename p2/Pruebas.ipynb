{
  "nbformat": 4,
  "nbformat_minor": 0,
  "metadata": {
    "kernelspec": {
      "display_name": "Python 3",
      "language": "python",
      "name": "python3"
    },
    "language_info": {
      "codemirror_mode": {
        "name": "ipython",
        "version": 3
      },
      "file_extension": ".py",
      "mimetype": "text/x-python",
      "name": "python",
      "nbconvert_exporter": "python",
      "pygments_lexer": "ipython3",
      "version": "3.8.3"
    },
    "colab": {
      "name": "Pruebas.ipynb",
      "provenance": []
    }
  },
  "cells": [
    {
      "cell_type": "code",
      "metadata": {
        "id": "OHOjNKL-Amnt",
        "outputId": "63bc295e-f417-45e8-a4e5-8cc17fa336a8"
      },
      "source": [
        "import numpy as np\n",
        "from Clasificador import Clasificador, ClasificadorRegresionLogistica, ClasificadorNaiveBayes\n",
        "from Datos import Datos\n",
        "from EstrategiaParticionado import ValidacionSimple, ValidacionCruzada\n",
        "\n",
        "particionado = ValidacionSimple(0.2,50)\n",
        "cl = ClasificadorRegresionLogistica()\n",
        "\n",
        "data = Datos('wdbc.data', predNominal=True)\n",
        "\n",
        "# cl.entrenamiento(data.datos,data.nominalAtributos,data.diccionario)\n",
        "# y = cl.clasifica(data.datos,data.nominalAtributos,data.diccionario)\n",
        "\n",
        "# print(y)\n",
        "val = cl.validacion(particionado,data)\n",
        "print(\"Media: \", np.mean(val))\n",
        "print(\"Varianza: \", np.var(val))"
      ],
      "execution_count": null,
      "outputs": [
        {
          "output_type": "stream",
          "text": [
            "C:\\Users\\David\\Desktop\\Universidad\\FAA\\Practicas\\faa\\p2\\Clasificador.py:240: RuntimeWarning: overflow encountered in exp\n",
            "  sig = lambda x: 1/(1+np.exp(-x))\n"
          ],
          "name": "stderr"
        },
        {
          "output_type": "stream",
          "text": [
            "Media:  0.16141592920353984\n",
            "Varianza:  0.00994458454068447\n"
          ],
          "name": "stdout"
        }
      ]
    },
    {
      "cell_type": "code",
      "metadata": {
        "id": "GgOy9fFLAmny",
        "outputId": "53beb7bd-fb35-4334-d349-665eb345c00b"
      },
      "source": [
        "import numpy as np\n",
        "from Clasificador import Clasificador, ClasificadorVecinosProximos\n",
        "from Datos import Datos\n",
        "from EstrategiaParticionado import ValidacionSimple, ValidacionCruzada\n",
        "\n",
        "particionado = ValidacionSimple(0.8,20)\n",
        "cl = ClasificadorVecinosProximos(5,distancia='euclidea',normaliza=False)\n",
        "\n",
        "data = Datos('wdbc.data', predNominal=True)\n",
        "\n",
        "# cl.entrenamiento(data.datos,data.nominalAtributos,data.diccionario)\n",
        "# y = cl.clasifica(data.datos,data.nominalAtributos,data.diccionario)\n",
        "\n",
        "# print(y)\n",
        "val = cl.validacion(particionado,data)\n",
        "print(\"Media: \", np.mean(val))\n",
        "print(\"Varianza: \", np.var(val))"
      ],
      "execution_count": null,
      "outputs": [
        {
          "output_type": "stream",
          "text": [
            "Media:  0.07659340659340659\n",
            "Varianza:  7.886728655959425e-05\n"
          ],
          "name": "stdout"
        }
      ]
    },
    {
      "cell_type": "markdown",
      "metadata": {
        "id": "9n5VcSLHAmnz"
      },
      "source": [
        "Pruebas scikit"
      ]
    },
    {
      "cell_type": "code",
      "metadata": {
        "id": "cQQrNSzBAmnz",
        "outputId": "1cc6fde3-5d24-4b16-8ab9-51504557920e"
      },
      "source": [
        "#kNN\n",
        "from sklearn.neighbors import KNeighborsClassifier\n",
        "from sklearn.model_selection import cross_val_score\n",
        "from Datos import Datos\n",
        "\n",
        "import numpy as np\n",
        "\n",
        "numP = 5\n",
        "\n",
        "distancias = ['euclidean','manhattan','mahalanobis']\n",
        "\n",
        "data = Datos('wdbc.data', predNominal=True)\n",
        "X, y = data.datos[:,:-1].astype('float'), data.datos[:,-1].astype('int')\n",
        "\n",
        "cov = np.cov(np.transpose(X))\n",
        "\n",
        "for dist in distancias:\n",
        "    if dist == 'mahalanobis':\n",
        "        param = {'V': cov}\n",
        "    else:\n",
        "        param = None\n",
        "    neigh = KNeighborsClassifier(n_neighbors=5, metric=dist, metric_params=param)\n",
        "    err = 1 - cross_val_score(neigh,X,y,cv=numP)\n",
        "    print('Distancia: ', dist)\n",
        "    print('Error medio: ',np.mean(err),'\\n')\n"
      ],
      "execution_count": null,
      "outputs": [
        {
          "output_type": "stream",
          "text": [
            "Distancia:  euclidean\n",
            "Error medio:  0.07205402887750349 \n",
            "\n",
            "Distancia:  manhattan\n",
            "Error medio:  0.06854525694767895 \n",
            "\n",
            "Distancia:  mahalanobis\n",
            "Error medio:  0.20034156186927493 \n",
            "\n"
          ],
          "name": "stdout"
        }
      ]
    },
    {
      "cell_type": "code",
      "metadata": {
        "id": "q7e_3ufiAmn0",
        "outputId": "82a02808-4a16-4445-f7c1-3a90fe18b882"
      },
      "source": [
        "# Regresión log\n",
        "from sklearn.linear_model import LogisticRegression, SGDClassifier\n",
        "from sklearn.model_selection import cross_val_score\n",
        "from Datos import Datos\n",
        "\n",
        "import numpy as np\n",
        "\n",
        "numP = 5\n",
        "\n",
        "\n",
        "clf = SGDClassifier(alpha=0.1)\n",
        "data = Datos('wdbc.data', predNominal=True)\n",
        "X, y = data.datos[:,:-1].astype('float'), data.datos[:,-1].astype('int')\n",
        "\n",
        "err = 1 - cross_val_score(clf,X,y,cv=numP)\n",
        "print(\"Media: \",np.mean(err))"
      ],
      "execution_count": null,
      "outputs": [
        {
          "output_type": "stream",
          "text": [
            "Media:  0.1264865704083217\n"
          ],
          "name": "stdout"
        }
      ]
    },
    {
      "cell_type": "markdown",
      "metadata": {
        "id": "bxrkbewUAmn0"
      },
      "source": [
        "Curvas ROC"
      ]
    },
    {
      "cell_type": "markdown",
      "metadata": {
        "id": "dkxQLDfRAmn0"
      },
      "source": [
        "Vecinos próximos (bien escrito)"
      ]
    },
    {
      "cell_type": "code",
      "metadata": {
        "id": "O2WP1lzyJ3f8"
      },
      "source": [
        "import numpy as np\n",
        "from Clasificador import ClasificadorVecinosProximos\n",
        "from Datos import Datos\n",
        "from EstrategiaParticionado import ValidacionSimple\n",
        "\n",
        "from astropy.table import QTable, Table, Column\n",
        "\n",
        "def data_knn(distancias,vecinos,path,numEx=5,propTest=0.2,predNominal=True):\n",
        "  header = ['Num. Vecinos'] + distancias\n",
        "\n",
        "  particionado = ValidacionSimple(propTest,numEx)\n",
        "  data = Datos(path, predNominal=predNominal)\n",
        "\n",
        "  datosTablaN = [vecinos,]\n",
        "  datosTabla = [vecinos,]\n",
        "\n",
        "  for dist in distancias:\n",
        "      lstN = []\n",
        "      lst = []\n",
        "      for k in vecinos:\n",
        "          # Normalizado\n",
        "          clN = ClasificadorVecinosProximos(k,distancia=dist)\n",
        "          erroresN = clN.validacion(particionado,data)\n",
        "          # Sin normalizar\n",
        "          cl = ClasificadorVecinosProximos(k,distancia=dist,normaliza=False)\n",
        "          errores = cl.validacion(particionado,data)\n",
        "          # Añadimos a las columnas\n",
        "          lstN.append(np.mean(erroresN))\n",
        "          lst.append(np.mean(errores))\n",
        "      datosTabla.append(lst)\n",
        "      datosTablaN.append(lstN)\n",
        "  diff = [vecinos,]+list((np.array(datosTabla)-np.array(datosTablaN))[1:])\n",
        "  return datosTablaN,datosTabla,diff"
      ],
      "execution_count": 21,
      "outputs": []
    },
    {
      "cell_type": "code",
      "metadata": {
        "colab": {
          "base_uri": "https://localhost:8080/"
        },
        "id": "TkrZzI2LAmn0",
        "outputId": "ee42954b-35c5-4086-e652-0a7a81f8fa01"
      },
      "source": [
        "# WDBC\n",
        "from astropy.table import QTable, Table, Column\n",
        "\n",
        "distancias = ['euclidea','manhattan','mahalanobis']\n",
        "vecinos = [1,5,11,21]\n",
        "\n",
        "datosTablaN,datosTabla,diff = data_knn(distancias,vecinos,'wdbc.data')\n",
        "\n",
        "print('Sin normalizar:')\n",
        "t = Table(datosTabla,names=header)\n",
        "print(t)\n",
        "print('\\n')\n",
        "\n",
        "print('Normalizando:')\n",
        "tN = Table(datosTablaN,names=header)\n",
        "print(tN)\n",
        "print('\\n')\n",
        "\n",
        "print('Diferencias:') \n",
        "tDif = Table(diff,names=header)\n",
        "print(tDif)"
      ],
      "execution_count": 15,
      "outputs": [
        {
          "output_type": "stream",
          "text": [
            "Sin normalizar:\n",
            "Num. Vecinos       euclidea           manhattan          mahalanobis    \n",
            "------------ ------------------- ------------------- -------------------\n",
            "           1 0.09911504424778761 0.07256637168141593 0.16460176991150444\n",
            "           5  0.0743362831858407 0.06371681415929203 0.16991150442477876\n",
            "          11 0.06371681415929203  0.0584070796460177                 0.2\n",
            "          21 0.06902654867256637 0.07787610619469028 0.27433628318584075\n",
            "\n",
            "\n",
            "Normalizando:\n",
            "Num. Vecinos       euclidea            manhattan          mahalanobis    \n",
            "------------ -------------------- ------------------- -------------------\n",
            "           1  0.09026548672566373 0.07787610619469026  0.1752212389380531\n",
            "           5   0.0654867256637168 0.06371681415929203 0.17345132743362832\n",
            "          11  0.08141592920353982 0.06371681415929203   0.184070796460177\n",
            "          21 0.060176991150442484 0.07079646017699115 0.30265486725663715\n",
            "Diferencias:\n",
            "Num. Vecinos        euclidea             manhattan            mahalanobis      \n",
            "------------ --------------------- --------------------- ----------------------\n",
            "           1   0.00884955752212388 -0.005309734513274336  -0.010619469026548672\n",
            "           5  0.008849557522123908                   0.0 -0.0035398230088495575\n",
            "          11 -0.017699115044247787 -0.005309734513274336   0.015929203539823023\n",
            "          21  0.008849557522123887  0.007079646017699129  -0.028318584070796404\n"
          ],
          "name": "stdout"
        }
      ]
    },
    {
      "cell_type": "code",
      "metadata": {
        "colab": {
          "base_uri": "https://localhost:8080/",
          "height": 295
        },
        "id": "VL0EyNBQAmn0",
        "outputId": "664ee96c-b08c-440a-bc0d-09659054b645"
      },
      "source": [
        "# Una vez hemos visto que la normalización es mejor, nos centramos en los datos normalizados\n",
        "import matplotlib.pyplot as plt\n",
        "import matplotlib.patches as mpatches\n",
        "\n",
        "vecinos = np.array(datosTablaN)[0]\n",
        "datos = np.array(datosTablaN)[1:]\n",
        "\n",
        "# Distancia euclidea\n",
        "plt.plot(vecinos,datos[0],'r')\n",
        "# Manhattan\n",
        "plt.plot(vecinos,datos[1],'b')\n",
        "# Mahalanobis\n",
        "plt.plot(vecinos,datos[2],'g')\n",
        "\n",
        "red = mpatches.Patch(color='red', label='Euclidea')\n",
        "blue = mpatches.Patch(color='blue', label='Manhattan')\n",
        "green = mpatches.Patch(color='green', label='Mahalanobis')\n",
        "\n",
        "plt.legend(handles=[red,blue,green])\n",
        "plt.xlabel('Número de vecinos')\n",
        "plt.ylabel('Tasa de error')\n",
        "plt.title('Evaluación del error en kNN normalizado (WDBC)')\n",
        "\n",
        "plt.show()"
      ],
      "execution_count": 16,
      "outputs": [
        {
          "output_type": "display_data",
          "data": {
            "image/png": "[encoded data removed]",
            "text/plain": [
              "<Figure size 432x288 with 1 Axes>"
            ]
          },
          "metadata": {
            "tags": [],
            "needs_background": "light"
          }
        }
      ]
    },
    {
      "cell_type": "code",
      "metadata": {
        "colab": {
          "base_uri": "https://localhost:8080/"
        },
        "id": "10cPLMtCAmn1",
        "outputId": "c246bb1c-ec05-4884-ae6e-69082df85d8e"
      },
      "source": [
        "# Diabetes\n",
        "from astropy.table import QTable, Table, Column\n",
        "\n",
        "distancias = ['euclidea','manhattan','mahalanobis']\n",
        "vecinos = [1,5,11,21]\n",
        "\n",
        "datosTablaN,datosTabla,diff = data_knn(distancias,vecinos,'pima-indians-diabetes.data',predNominal=False)\n",
        "\n",
        "print('Sin normalizar:')\n",
        "t = Table(datosTabla,names=header)\n",
        "print(t)\n",
        "print('\\n')\n",
        "\n",
        "print('Normalizando:')\n",
        "tN = Table(datosTablaN,names=header)\n",
        "print(tN)\n",
        "print('\\n')\n",
        "\n",
        "print('Diferencias:') \n",
        "tDif = Table(diff,names=header)\n",
        "print(tDif)"
      ],
      "execution_count": 24,
      "outputs": [
        {
          "output_type": "stream",
          "text": [
            "Sin normalizar:\n",
            "Num. Vecinos      euclidea           manhattan          mahalanobis    \n",
            "------------ ------------------ ------------------- -------------------\n",
            "           1 0.3320261437908497 0.32941176470588235 0.32941176470588235\n",
            "           5 0.2784313725490196  0.2627450980392157 0.26666666666666666\n",
            "          11 0.2418300653594771 0.24575163398692806 0.24836601307189543\n",
            "          21 0.2522875816993464 0.24444444444444446  0.2705882352941177\n",
            "\n",
            "\n",
            "Normalizando:\n",
            "Num. Vecinos       euclidea          manhattan          mahalanobis    \n",
            "------------ ------------------- ------------------ -------------------\n",
            "           1  0.3241830065359477 0.3176470588235294 0.30849673202614375\n",
            "           5 0.29673202614379085 0.2954248366013072 0.28366013071895424\n",
            "          11  0.2549019607843137 0.2627450980392157   0.257516339869281\n",
            "          21 0.25098039215686274 0.2601307189542484   0.257516339869281\n",
            "\n",
            "\n",
            "Diferencias:\n",
            "Num. Vecinos        euclidea             manhattan            mahalanobis     \n",
            "------------ --------------------- --------------------- ---------------------\n",
            "           1  0.007843137254901988  0.011764705882352955    0.0209150326797386\n",
            "           5 -0.018300653594771232   -0.0326797385620915 -0.016993464052287577\n",
            "          11  -0.01307189542483661 -0.016993464052287632 -0.009150326797385588\n",
            "          21 0.0013071895424836555  -0.01568627450980392  0.013071895424836666\n"
          ],
          "name": "stdout"
        }
      ]
    },
    {
      "cell_type": "code",
      "metadata": {
        "colab": {
          "base_uri": "https://localhost:8080/",
          "height": 295
        },
        "id": "C9KdFWzGAmn2",
        "outputId": "2138bcb1-d9f3-4a37-9c7e-f279e519c74f"
      },
      "source": [
        "# Una vez hemos visto que la normalización es mejor, nos centramos en los datos normalizados\n",
        "import matplotlib.pyplot as plt\n",
        "import matplotlib.patches as mpatches\n",
        "\n",
        "vecinos = np.array(datosTablaN)[0]\n",
        "datos = np.array(datosTablaN)[1:]\n",
        "\n",
        "# Distancia euclidea\n",
        "plt.plot(vecinos,datos[0],'r')\n",
        "# Manhattan\n",
        "plt.plot(vecinos,datos[1],'b')\n",
        "# Mahalanobis\n",
        "plt.plot(vecinos,datos[2],'g')\n",
        "\n",
        "red = mpatches.Patch(color='red', label='Euclidea')\n",
        "blue = mpatches.Patch(color='blue', label='Manhattan')\n",
        "green = mpatches.Patch(color='green', label='Mahalanobis')\n",
        "\n",
        "plt.legend(handles=[red,blue,green])\n",
        "plt.xlabel('Número de vecinos')\n",
        "plt.ylabel('Tasa de error')\n",
        "plt.title('Evaluación del error en kNN normalizado (Indians)')\n",
        "\n",
        "plt.show()"
      ],
      "execution_count": 25,
      "outputs": [
        {
          "output_type": "display_data",
          "data": {
            "image/png": "[encoded data removed]",
            "text/plain": [
              "<Figure size 432x288 with 1 Axes>"
            ]
          },
          "metadata": {
            "tags": [],
            "needs_background": "light"
          }
        }
      ]
    },
    {
      "cell_type": "markdown",
      "metadata": {
        "id": "ggvQSieCAmn2"
      },
      "source": [
        "Regresión Logística"
      ]
    },
    {
      "cell_type": "code",
      "metadata": {
        "id": "vFNVauBpOwt1"
      },
      "source": [
        "import numpy as np\n",
        "from Clasificador import ClasificadorVecinosProximos\n",
        "from Datos import Datos\n",
        "from EstrategiaParticionado import ValidacionSimple\n",
        "\n",
        "from astropy.table import QTable, Table, Column\n",
        "\n",
        "def data_log(constantes,pasos,path,numEx=5,propTest=0.2,predNominal=True):\n",
        "  particionado = ValidacionSimple(propTest,numEx)\n",
        "  data = Datos(path, predNominal=predNominal)\n",
        "\n",
        "  datosTablaN = [constantes,]\n",
        "  datosTabla = [constantes,]\n",
        "\n",
        "  for paso in pasos:\n",
        "      lstN = []\n",
        "      lst = []\n",
        "      for cte in constantes:\n",
        "          # Normalizado\n",
        "          clN = ClasificadorRegresionLogistica(eta=cte,epochs=paso)\n",
        "          erroresN = clN.validacion(particionado,data)\n",
        "          # Sin normalizar\n",
        "          cl = ClasificadorRegresionLogistica(eta=cte,epochs=paso,normaliza=False)\n",
        "          errores = cl.validacion(particionado,data)\n",
        "          # Añadimos a las columnas\n",
        "          lstN.append(np.mean(erroresN))\n",
        "          lst.append(np.mean(errores))\n",
        "      datosTabla.append(lst)\n",
        "      datosTablaN.append(lstN)\n",
        "  diff = [constantes,]+list((np.array(datosTabla)-np.array(datosTablaN))[1:])\n",
        "  return datosTablaN,datosTabla,diff\n",
        "    "
      ],
      "execution_count": 31,
      "outputs": []
    },
    {
      "cell_type": "code",
      "metadata": {
        "colab": {
          "base_uri": "https://localhost:8080/"
        },
        "id": "bYwttAnoAmn2",
        "outputId": "d4aea280-3ffa-4b0c-c701-d7397149af9f"
      },
      "source": [
        "# WDBC\n",
        "import numpy as np\n",
        "from Clasificador import ClasificadorRegresionLogistica\n",
        "from Datos import Datos\n",
        "from EstrategiaParticionado import ValidacionSimple\n",
        "\n",
        "from astropy.table import QTable, Table, Column\n",
        "\n",
        "constantes = [0.01,0.1,1,5,10,20]\n",
        "pasos = [1,10,50,100]\n",
        "\n",
        "header = ['Cte \\ Pasos'] + pasos\n",
        "\n",
        "datosTablaN,datosTabla,diff = data_log(constantes,pasos,'wdbc.data')\n",
        "\n",
        "print('Sin normalizar:')\n",
        "t = Table(datosTabla,names=header)\n",
        "print(t)\n",
        "print('\\n')\n",
        "\n",
        "print('Normalizando:')\n",
        "tN = Table(datosTablaN,names=header)\n",
        "print(tN)\n",
        "print('\\n')\n",
        "\n",
        "print('Diferencias:') \n",
        "tDif = Table(diff,names=header)\n",
        "print(tDif)"
      ],
      "execution_count": 56,
      "outputs": [
        {
          "output_type": "stream",
          "text": [
            "/content/Clasificador.py:244: RuntimeWarning: overflow encountered in exp\n",
            "  sig = lambda x: 1/(1+np.exp(-x))\n"
          ],
          "name": "stderr"
        },
        {
          "output_type": "stream",
          "text": [
            "Sin normalizar:\n",
            "Cte \\ Pasos          1          ...          50                 100        \n",
            "----------- ------------------- ... ------------------- -------------------\n",
            "       0.01 0.39292035398230085 ... 0.10265486725663717 0.12920353982300886\n",
            "        0.1 0.23716814159292038 ... 0.09557522123893805  0.1309734513274336\n",
            "        1.0  0.3345132743362832 ... 0.11150442477876107 0.09557522123893805\n",
            "        5.0  0.4212389380530973 ... 0.11858407079646019 0.15044247787610618\n",
            "       10.0 0.20176991150442478 ... 0.12743362831858407  0.1592920353982301\n",
            "       20.0 0.19292035398230092 ... 0.15575221238938053 0.08849557522123894\n",
            "\n",
            "\n",
            "Normalizando:\n",
            "Cte \\ Pasos          1          ...          50                 100        \n",
            "----------- ------------------- ... ------------------- -------------------\n",
            "       0.01 0.35221238938053095 ... 0.13805309734513274 0.10088495575221237\n",
            "        0.1  0.2814159292035398 ... 0.17345132743362832  0.1699115044247788\n",
            "        1.0 0.11504424778761062 ...  0.1274336283185841 0.15575221238938053\n",
            "        5.0  0.3823008849557522 ... 0.11327433628318584 0.12743362831858407\n",
            "       10.0 0.31504424778761064 ...  0.1592920353982301 0.07964601769911503\n",
            "       20.0   0.415929203539823 ... 0.11150442477876106  0.1274336283185841\n",
            "\n",
            "\n",
            "Diferencias:\n",
            "Cte \\ Pasos          1           ...           50                  100         \n",
            "----------- -------------------- ... --------------------- --------------------\n",
            "       0.01   0.0407079646017699 ... -0.035398230088495575 0.028318584070796488\n",
            "        0.1 -0.04424778761061943 ...  -0.07787610619469026 -0.03893805309734519\n",
            "        1.0  0.21946902654867256 ... -0.015929203539823023 -0.06017699115044248\n",
            "        5.0 0.038938053097345104 ...   0.00530973451327435  0.02300884955752211\n",
            "       10.0 -0.11327433628318587 ...  -0.03185840707964602  0.07964601769911506\n",
            "       20.0 -0.22300884955752207 ...   0.04424778761061947 -0.03893805309734516\n"
          ],
          "name": "stdout"
        }
      ]
    },
    {
      "cell_type": "code",
      "metadata": {
        "colab": {
          "base_uri": "https://localhost:8080/",
          "height": 295
        },
        "id": "-fJ0Or6eAmn2",
        "outputId": "048c4553-dce3-454b-c918-43cc37e5612a"
      },
      "source": [
        "# Una vez hemos visto que la normalización es mejor, nos centramos en los datos normalizados\n",
        "import matplotlib.pyplot as plt\n",
        "import matplotlib.patches as mpatches\n",
        "\n",
        "consts = np.array(datosTablaN)[0]\n",
        "datos = np.array(datosTablaN)[1:]\n",
        "\n",
        "# 1 PASO\n",
        "plt.plot(consts,datos[0],'r')\n",
        "# 10 PASOS\n",
        "plt.plot(consts,datos[1],'b')\n",
        "# 50 PASOS\n",
        "plt.plot(consts,datos[2],'g')\n",
        "# 100 PASOS\n",
        "plt.plot(consts,datos[3],'k')\n",
        "\n",
        "red = mpatches.Patch(color='red', label='1 paso')\n",
        "blue = mpatches.Patch(color='blue', label='10 pasos')\n",
        "green = mpatches.Patch(color='green', label='50 pasos')\n",
        "black = mpatches.Patch(color='black', label='100 pasos')\n",
        "\n",
        "plt.legend(handles=[red,blue,green,black])\n",
        "plt.xlabel('Constante de aprendizaje (log)')\n",
        "plt.ylabel('Tasa de error')\n",
        "plt.title('Evaluación del error en regresión logística normalizada (WDBC)')\n",
        "\n",
        "plt.show()"
      ],
      "execution_count": 61,
      "outputs": [
        {
          "output_type": "display_data",
          "data": {
            "image/png": "[encoded data removed]",
            "text/plain": [
              "<Figure size 432x288 with 1 Axes>"
            ]
          },
          "metadata": {
            "tags": [],
            "needs_background": "light"
          }
        }
      ]
    }
  ]
}