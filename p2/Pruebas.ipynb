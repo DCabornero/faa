{
 "cells": [
  {
   "cell_type": "code",
   "execution_count": 5,
   "metadata": {},
   "outputs": [
    {
     "name": "stderr",
     "output_type": "stream",
     "text": [
      "C:\\Users\\David\\Desktop\\Universidad\\FAA\\Practicas\\faa\\p2\\Clasificador.py:240: RuntimeWarning: overflow encountered in exp\n",
      "  sig = lambda x: 1/(1+np.exp(-x))\n"
     ]
    },
    {
     "name": "stdout",
     "output_type": "stream",
     "text": [
      "Media:  0.16141592920353984\n",
      "Varianza:  0.00994458454068447\n"
     ]
    }
   ],
   "source": [
    "import numpy as np\n",
    "from Clasificador import Clasificador, ClasificadorRegresionLogistica, ClasificadorNaiveBayes\n",
    "from Datos import Datos\n",
    "from EstrategiaParticionado import ValidacionSimple, ValidacionCruzada\n",
    "\n",
    "particionado = ValidacionSimple(0.2,50)\n",
    "cl = ClasificadorRegresionLogistica()\n",
    "\n",
    "data = Datos('wdbc.data', predNominal=True)\n",
    "\n",
    "# cl.entrenamiento(data.datos,data.nominalAtributos,data.diccionario)\n",
    "# y = cl.clasifica(data.datos,data.nominalAtributos,data.diccionario)\n",
    "\n",
    "# print(y)\n",
    "val = cl.validacion(particionado,data)\n",
    "print(\"Media: \", np.mean(val))\n",
    "print(\"Varianza: \", np.var(val))"
   ]
  },
  {
   "cell_type": "code",
   "execution_count": 4,
   "metadata": {},
   "outputs": [
    {
     "name": "stdout",
     "output_type": "stream",
     "text": [
      "Media:  0.07659340659340659\n",
      "Varianza:  7.886728655959425e-05\n"
     ]
    }
   ],
   "source": [
    "import numpy as np\n",
    "from Clasificador import Clasificador, ClasificadorVecinosProximos\n",
    "from Datos import Datos\n",
    "from EstrategiaParticionado import ValidacionSimple, ValidacionCruzada\n",
    "\n",
    "particionado = ValidacionSimple(0.8,20)\n",
    "cl = ClasificadorVecinosProximos(5,distancia='euclidea',normaliza=False)\n",
    "\n",
    "data = Datos('wdbc.data', predNominal=True)\n",
    "\n",
    "# cl.entrenamiento(data.datos,data.nominalAtributos,data.diccionario)\n",
    "# y = cl.clasifica(data.datos,data.nominalAtributos,data.diccionario)\n",
    "\n",
    "# print(y)\n",
    "val = cl.validacion(particionado,data)\n",
    "print(\"Media: \", np.mean(val))\n",
    "print(\"Varianza: \", np.var(val))"
   ]
  },
  {
   "cell_type": "markdown",
   "metadata": {},
   "source": [
    "Pruebas scikit"
   ]
  },
  {
   "cell_type": "code",
   "execution_count": 13,
   "metadata": {},
   "outputs": [
    {
     "name": "stdout",
     "output_type": "stream",
     "text": [
      "Distancia:  euclidean\n",
      "Error medio:  0.07205402887750349 \n",
      "\n",
      "Distancia:  manhattan\n",
      "Error medio:  0.06854525694767895 \n",
      "\n",
      "Distancia:  mahalanobis\n",
      "Error medio:  0.20034156186927493 \n",
      "\n"
     ]
    }
   ],
   "source": [
    "#kNN\n",
    "from sklearn.neighbors import KNeighborsClassifier\n",
    "from sklearn.model_selection import cross_val_score\n",
    "from Datos import Datos\n",
    "\n",
    "import numpy as np\n",
    "\n",
    "numP = 5\n",
    "\n",
    "distancias = ['euclidean','manhattan','mahalanobis']\n",
    "\n",
    "data = Datos('wdbc.data', predNominal=True)\n",
    "X, y = data.datos[:,:-1].astype('float'), data.datos[:,-1].astype('int')\n",
    "\n",
    "cov = np.cov(np.transpose(X))\n",
    "\n",
    "for dist in distancias:\n",
    "    if dist == 'mahalanobis':\n",
    "        param = {'V': cov}\n",
    "    else:\n",
    "        param = None\n",
    "    neigh = KNeighborsClassifier(n_neighbors=5, metric=dist, metric_params=param)\n",
    "    err = 1 - cross_val_score(neigh,X,y,cv=numP)\n",
    "    print('Distancia: ', dist)\n",
    "    print('Error medio: ',np.mean(err),'\\n')\n"
   ]
  },
  {
   "cell_type": "code",
   "execution_count": 23,
   "metadata": {},
   "outputs": [
    {
     "name": "stdout",
     "output_type": "stream",
     "text": [
      "Media:  0.1264865704083217\n"
     ]
    }
   ],
   "source": [
    "# Regresión log\n",
    "from sklearn.linear_model import LogisticRegression, SGDClassifier\n",
    "from sklearn.model_selection import cross_val_score\n",
    "from Datos import Datos\n",
    "\n",
    "import numpy as np\n",
    "\n",
    "numP = 5\n",
    "\n",
    "\n",
    "clf = SGDClassifier(alpha=0.1)\n",
    "data = Datos('wdbc.data', predNominal=True)\n",
    "X, y = data.datos[:,:-1].astype('float'), data.datos[:,-1].astype('int')\n",
    "\n",
    "err = 1 - cross_val_score(clf,X,y,cv=numP)\n",
    "print(\"Media: \",np.mean(err))"
   ]
  },
  {
   "cell_type": "markdown",
   "metadata": {},
   "source": [
    "Curvas ROC"
   ]
  },
  {
   "cell_type": "markdown",
   "metadata": {},
   "source": [
    "Vecinos próximos (bien escrito)"
   ]
  },
  {
   "cell_type": "code",
   "execution_count": 2,
   "metadata": {},
   "outputs": [
    {
     "name": "stdout",
     "output_type": "stream",
     "text": [
      "Sin normalizar:\n",
      "Num. Vecinos       euclidea           manhattan          mahalanobis    \n",
      "------------ ------------------- ------------------- -------------------\n",
      "           1 0.08823529411764706 0.08058823529411765 0.17647058823529413\n",
      "           5 0.06852941176470588 0.06088235294117648 0.19911764705882354\n",
      "          11 0.07352941176470587 0.06647058823529413 0.22911764705882356\n",
      "          21 0.07029411764705883 0.07205882352941177 0.26794117647058824\n",
      "\n",
      "\n",
      "Normalizando:\n",
      "Num. Vecinos       euclidea           manhattan          mahalanobis    \n",
      "------------ ------------------- ------------------- -------------------\n",
      "           1 0.08441176470588235 0.07323529411764704 0.17705882352941174\n",
      "           5 0.06294117647058824 0.06294117647058824 0.20294117647058824\n",
      "          11 0.06764705882352941 0.06323529411764707 0.24647058823529414\n",
      "          21 0.07235294117647059  0.0714705882352941 0.29264705882352937\n"
     ]
    }
   ],
   "source": [
    "# WDBC\n",
    "import numpy as np\n",
    "from Clasificador import ClasificadorVecinosProximos\n",
    "from Datos import Datos\n",
    "from EstrategiaParticionado import ValidacionSimple\n",
    "\n",
    "from astropy.table import QTable, Table, Column\n",
    "\n",
    "distancias = ['euclidea','manhattan','mahalanobis']\n",
    "vecinos = [1,5,11,21]\n",
    "\n",
    "header = ['Num. Vecinos'] + distancias\n",
    "\n",
    "#Esto tarda en ejecutarse 10 minutos, yo aviso.\n",
    "numEx = 20 #Número de ejecuciones por caso\n",
    "propTest = 0.3 #Proporción de datos del testSet\n",
    "\n",
    "particionado = ValidacionSimple(propTest,numEx)\n",
    "data = Datos('wdbc.data', predNominal=True)\n",
    "\n",
    "datosTablaN = [vecinos,]\n",
    "datosTabla = [vecinos,]\n",
    "\n",
    "for dist in distancias:\n",
    "    lstN = []\n",
    "    lst = []\n",
    "    for k in vecinos:\n",
    "        # Normalizado\n",
    "        clN = ClasificadorVecinosProximos(k,distancia=dist)\n",
    "        erroresN = clN.validacion(particionado,data)\n",
    "        # Sin normalizar\n",
    "        cl = ClasificadorVecinosProximos(k,distancia=dist,normaliza=False)\n",
    "        errores = cl.validacion(particionado,data)\n",
    "        # Añadimos a las columnas\n",
    "        lstN.append(np.mean(erroresN))\n",
    "        lst.append(np.mean(errores))\n",
    "    datosTabla.append(lst)\n",
    "    datosTablaN.append(lstN)\n",
    "\n",
    "print('Sin normalizar:')\n",
    "t = Table(datosTabla,names=header)\n",
    "print(t)\n",
    "print('\\n')\n",
    "\n",
    "print('Normalizando:')\n",
    "tN = Table(datosTablaN,names=header)\n",
    "print(tN)\n",
    "        "
   ]
  },
  {
   "cell_type": "code",
   "execution_count": 8,
   "metadata": {},
   "outputs": [
    {
     "data": {
      "image/png": "[encoded data removed]",
      "text/plain": [
       "<Figure size 432x288 with 1 Axes>"
      ]
     },
     "metadata": {
      "needs_background": "light"
     },
     "output_type": "display_data"
    }
   ],
   "source": [
    "# Una vez hemos visto que la normalización es mejor, nos centramos en los datos normalizados\n",
    "import matplotlib.pyplot as plt\n",
    "import matplotlib.patches as mpatches\n",
    "\n",
    "vecinos = np.array(datosTablaN)[0]\n",
    "datos = np.array(datosTablaN)[1:]\n",
    "\n",
    "# Distancia euclidea\n",
    "plt.plot(vecinos,datos[0],'r')\n",
    "# Manhattan\n",
    "plt.plot(vecinos,datos[1],'b')\n",
    "# Mahalanobis\n",
    "plt.plot(vecinos,datos[2],'g')\n",
    "\n",
    "red = mpatches.Patch(color='red', label='Euclidea')\n",
    "blue = mpatches.Patch(color='blue', label='Manhattan')\n",
    "green = mpatches.Patch(color='green', label='Mahalanobis')\n",
    "\n",
    "plt.legend(handles=[red,blue,green])\n",
    "plt.xlabel('Número de vecinos')\n",
    "plt.ylabel('Tasa de error')\n",
    "plt.title('Evaluación del error en kNN normalizado (WDBC)')\n",
    "\n",
    "plt.show()"
   ]
  },
  {
   "cell_type": "code",
   "execution_count": 1,
   "metadata": {},
   "outputs": [
    {
     "name": "stdout",
     "output_type": "stream",
     "text": [
      "Sin normalizar:\n",
      "Num. Vecinos       euclidea          manhattan         mahalanobis    \n",
      "------------ ------------------- ------------------ ------------------\n",
      "           1  0.3267391304347826  0.312391304347826 0.3154347826086957\n",
      "           5 0.28108695652173915 0.2639130434782609 0.2713043478260869\n",
      "          11 0.27021739130434785 0.2517391304347826              0.265\n",
      "          21  0.2639130434782609 0.2539130434782609 0.2623913043478261\n",
      "\n",
      "\n",
      "Normalizando:\n",
      "Num. Vecinos       euclidea           manhattan          mahalanobis    \n",
      "------------ ------------------- ------------------- -------------------\n",
      "           1  0.3206521739130435  0.3147826086956522  0.2960869565217391\n",
      "           5 0.29347826086956524 0.27195652173913043  0.2691304347826088\n",
      "          11 0.25565217391304346 0.25021739130434784 0.26608695652173914\n",
      "          21 0.27326086956521733  0.2539130434782609                0.26\n"
     ]
    }
   ],
   "source": [
    "# Diabetes\n",
    "import numpy as np\n",
    "from Clasificador import ClasificadorVecinosProximos\n",
    "from Datos import Datos\n",
    "from EstrategiaParticionado import ValidacionSimple\n",
    "\n",
    "from astropy.table import QTable, Table, Column\n",
    "\n",
    "distancias = ['euclidea','manhattan','mahalanobis']\n",
    "vecinos = [1,5,11,21]\n",
    "\n",
    "header = ['Num. Vecinos'] + distancias\n",
    "\n",
    "#Esto tarda en ejecutarse 10 minutos, yo aviso.\n",
    "numEx = 20 #Número de ejecuciones por caso\n",
    "propTest = 0.3 #Proporción de datos del testSet\n",
    "\n",
    "particionado = ValidacionSimple(propTest,numEx)\n",
    "data = Datos('pima-indians-diabetes.data')\n",
    "\n",
    "datosTablaN = [vecinos,]\n",
    "datosTabla = [vecinos,]\n",
    "\n",
    "for dist in distancias:\n",
    "    lstN = []\n",
    "    lst = []\n",
    "    for k in vecinos:\n",
    "        # Normalizado\n",
    "        clN = ClasificadorVecinosProximos(k,distancia=dist)\n",
    "        erroresN = clN.validacion(particionado,data)\n",
    "        # Sin normalizar\n",
    "        cl = ClasificadorVecinosProximos(k,distancia=dist,normaliza=False)\n",
    "        errores = cl.validacion(particionado,data)\n",
    "        # Añadimos a las columnas\n",
    "        lstN.append(np.mean(erroresN))\n",
    "        lst.append(np.mean(errores))\n",
    "    datosTabla.append(lst)\n",
    "    datosTablaN.append(lstN)\n",
    "\n",
    "print('Sin normalizar:')\n",
    "t = Table(datosTabla,names=header)\n",
    "print(t)\n",
    "print('\\n')\n",
    "\n",
    "print('Normalizando:')\n",
    "tN = Table(datosTablaN,names=header)\n",
    "print(tN)"
   ]
  },
  {
   "cell_type": "code",
   "execution_count": 2,
   "metadata": {},
   "outputs": [
    {
     "data": {
      "image/png": "[encoded data removed]",
      "text/plain": [
       "<Figure size 432x288 with 1 Axes>"
      ]
     },
     "metadata": {
      "needs_background": "light"
     },
     "output_type": "display_data"
    }
   ],
   "source": [
    "# Una vez hemos visto que la normalización es mejor, nos centramos en los datos normalizados\n",
    "import matplotlib.pyplot as plt\n",
    "import matplotlib.patches as mpatches\n",
    "\n",
    "vecinos = np.array(datosTablaN)[0]\n",
    "datos = np.array(datosTablaN)[1:]\n",
    "\n",
    "# Distancia euclidea\n",
    "plt.plot(vecinos,datos[0],'r')\n",
    "# Manhattan\n",
    "plt.plot(vecinos,datos[1],'b')\n",
    "# Mahalanobis\n",
    "plt.plot(vecinos,datos[2],'g')\n",
    "\n",
    "red = mpatches.Patch(color='red', label='Euclidea')\n",
    "blue = mpatches.Patch(color='blue', label='Manhattan')\n",
    "green = mpatches.Patch(color='green', label='Mahalanobis')\n",
    "\n",
    "plt.legend(handles=[red,blue,green])\n",
    "plt.xlabel('Número de vecinos')\n",
    "plt.ylabel('Tasa de error')\n",
    "plt.title('Evaluación del error en kNN normalizado (Indians)')\n",
    "\n",
    "plt.show()"
   ]
  },
  {
   "cell_type": "markdown",
   "metadata": {},
   "source": [
    "Regresión Logística"
   ]
  },
  {
   "cell_type": "code",
   "execution_count": 3,
   "metadata": {},
   "outputs": [
    {
     "name": "stdout",
     "output_type": "stream",
     "text": [
      "Sin normalizar:\n",
      "Cte \\ Pasos          1                  100                 200        \n",
      "----------- ------------------- ------------------- -------------------\n",
      "       0.01 0.20852941176470585 0.11205882352941177 0.13911764705882354\n",
      "        0.1 0.32029411764705884  0.1608823529411765 0.10441176470588236\n",
      "        0.5  0.1897058823529412 0.11911764705882352 0.12205882352941178\n",
      "        1.0  0.2388235294117647 0.12441176470588236 0.12441176470588237\n",
      "        5.0 0.32529411764705884 0.12058823529411763  0.1088235294117647\n",
      "       10.0  0.3461764705882353 0.10676470588235294 0.10941176470588235\n",
      "       20.0 0.36176470588235293 0.12470588235294118  0.1244117647058824\n",
      "\n",
      "\n",
      "Normalizando:\n",
      "Cte \\ Pasos          1                  100                 200        \n",
      "----------- ------------------- ------------------- -------------------\n",
      "       0.01 0.23823529411764705 0.16441176470588237 0.11294117647058824\n",
      "        0.1 0.17852941176470588  0.1255882352941176  0.1335294117647059\n",
      "        0.5 0.28264705882352936 0.14852941176470588 0.10970588235294118\n",
      "        1.0 0.28058823529411764 0.10617647058823529 0.12323529411764707\n",
      "        5.0  0.2652941176470588  0.1323529411764706 0.12029411764705884\n",
      "       10.0  0.2535294117647059 0.11117647058823532 0.11647058823529415\n",
      "       20.0 0.31411764705882356 0.11411764705882352 0.11823529411764706\n"
     ]
    }
   ],
   "source": [
    "# WDBC\n",
    "import numpy as np\n",
    "from Clasificador import ClasificadorRegresionLogistica\n",
    "from Datos import Datos\n",
    "from EstrategiaParticionado import ValidacionSimple\n",
    "\n",
    "from astropy.table import QTable, Table, Column\n",
    "\n",
    "constantes = [0.01,0.1,0.5,1,5,10,20]\n",
    "pasos = [1,100,200]\n",
    "\n",
    "header = ['Cte \\ Pasos'] + pasos\n",
    "\n",
    "numEx = 20 #Número de ejecuciones por caso\n",
    "propTest = 0.3 #Proporción de datos del testSet\n",
    "\n",
    "particionado = ValidacionSimple(propTest,numEx)\n",
    "data = Datos('wdbc.data', predNominal=True)\n",
    "\n",
    "datosTablaN = [constantes,]\n",
    "datosTabla = [constantes,]\n",
    "\n",
    "for paso in pasos:\n",
    "    lstN = []\n",
    "    lst = []\n",
    "    for cte in constantes:\n",
    "        # Normalizado\n",
    "        clN = ClasificadorRegresionLogistica(eta=cte,epochs=paso)\n",
    "        erroresN = clN.validacion(particionado,data)\n",
    "        # Sin normalizar\n",
    "        cl = ClasificadorRegresionLogistica(eta=cte,epochs=paso,normaliza=False)\n",
    "        errores = cl.validacion(particionado,data)\n",
    "        # Añadimos a las columnas\n",
    "        lstN.append(np.mean(erroresN))\n",
    "        lst.append(np.mean(errores))\n",
    "    datosTabla.append(lst)\n",
    "    datosTablaN.append(lstN)\n",
    "\n",
    "print('Sin normalizar:')\n",
    "t = Table(datosTabla,names=header)\n",
    "print(t)\n",
    "print('\\n')\n",
    "\n",
    "print('Normalizando:')\n",
    "tN = Table(datosTablaN,names=header)\n",
    "print(tN)"
   ]
  },
  {
   "cell_type": "code",
   "execution_count": null,
   "metadata": {},
   "outputs": [],
   "source": []
  }
 ],
 "metadata": {
  "kernelspec": {
   "display_name": "Python 3",
   "language": "python",
   "name": "python3"
  },
  "language_info": {
   "codemirror_mode": {
    "name": "ipython",
    "version": 3
   },
   "file_extension": ".py",
   "mimetype": "text/x-python",
   "name": "python",
   "nbconvert_exporter": "python",
   "pygments_lexer": "ipython3",
   "version": "3.8.3"
  }
 },
 "nbformat": 4,
 "nbformat_minor": 4
}
