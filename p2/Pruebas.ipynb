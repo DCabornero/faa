{
 "cells": [
  {
   "cell_type": "code",
   "execution_count": 11,
   "metadata": {
    "id": "OHOjNKL-Amnt",
    "outputId": "63bc295e-f417-45e8-a4e5-8cc17fa336a8"
   },
   "outputs": [
    {
     "name": "stdout",
     "output_type": "stream",
     "text": [
      "Media:  0.037876106194690264\n",
      "Varianza:  0.00028205810948390633\n"
     ]
    }
   ],
   "source": [
    "%load_ext autoreload\n",
    "%autoreload 2\n",
    "\n",
    "\n",
    "import numpy as np\n",
    "from Clasificador import Clasificador, ClasificadorRegresionLogistica, ClasificadorNaiveBayes\n",
    "from Datos import Datos\n",
    "from EstrategiaParticionado import ValidacionSimple, ValidacionCruzada\n",
    "\n",
    "particionado = ValidacionSimple(0.2,50)\n",
    "cl = ClasificadorRegresionLogistica()\n",
    "\n",
    "data = Datos('wdbc.data', predNominal=True)\n",
    "\n",
    "# cl.entrenamiento(data.datos,data.nominalAtributos,data.diccionario)\n",
    "# y = cl.clasifica(data.datos,data.nominalAtributos,data.diccionario)\n",
    "\n",
    "# print(y)\n",
    "val = cl.validacion(particionado,data)\n",
    "print(\"Media: \", np.mean(val))\n",
    "print(\"Varianza: \", np.var(val))"
   ]
  },
  {
   "cell_type": "code",
   "execution_count": 2,
   "metadata": {
    "id": "GgOy9fFLAmny",
    "outputId": "53beb7bd-fb35-4334-d349-665eb345c00b"
   },
   "outputs": [
    {
     "name": "stdout",
     "output_type": "stream",
     "text": [
      "Media:  0.0810989010989011\n",
      "Varianza:  0.00012022702572153119\n"
     ]
    }
   ],
   "source": [
    "import numpy as np\n",
    "from Clasificador import Clasificador, ClasificadorVecinosProximos\n",
    "from Datos import Datos\n",
    "from EstrategiaParticionado import ValidacionSimple, ValidacionCruzada\n",
    "\n",
    "particionado = ValidacionSimple(0.8,20)\n",
    "cl = ClasificadorVecinosProximos(5,distancia='euclidea',normaliza=False)\n",
    "\n",
    "data = Datos('wdbc.data', predNominal=True)\n",
    "\n",
    "# cl.entrenamiento(data.datos,data.nominalAtributos,data.diccionario)\n",
    "# y = cl.clasifica(data.datos,data.nominalAtributos,data.diccionario)\n",
    "\n",
    "# print(y)\n",
    "val = cl.validacion(particionado,data)\n",
    "print(\"Media: \", np.mean(val))\n",
    "print(\"Varianza: \", np.var(val))"
   ]
  },
  {
   "cell_type": "markdown",
   "metadata": {
    "id": "9n5VcSLHAmnz"
   },
   "source": [
    "Pruebas scikit"
   ]
  },
  {
   "cell_type": "code",
   "execution_count": 3,
   "metadata": {
    "id": "cQQrNSzBAmnz",
    "outputId": "1cc6fde3-5d24-4b16-8ab9-51504557920e"
   },
   "outputs": [
    {
     "name": "stdout",
     "output_type": "stream",
     "text": [
      "Distancia:  euclidean\n",
      "Error medio:  0.07205402887750349 \n",
      "\n",
      "Distancia:  manhattan\n",
      "Error medio:  0.06854525694767895 \n",
      "\n",
      "Distancia:  mahalanobis\n",
      "Error medio:  0.20034156186927493 \n",
      "\n"
     ]
    }
   ],
   "source": [
    "#kNN\n",
    "from sklearn.neighbors import KNeighborsClassifier\n",
    "from sklearn.model_selection import cross_val_score\n",
    "from Datos import Datos\n",
    "\n",
    "import numpy as np\n",
    "\n",
    "numP = 5\n",
    "\n",
    "distancias = ['euclidean','manhattan','mahalanobis']\n",
    "\n",
    "data = Datos('wdbc.data', predNominal=True)\n",
    "X, y = data.datos[:,:-1].astype('float'), data.datos[:,-1].astype('int')\n",
    "\n",
    "cov = np.cov(np.transpose(X))\n",
    "\n",
    "for dist in distancias:\n",
    "    if dist == 'mahalanobis':\n",
    "        param = {'V': cov}\n",
    "    else:\n",
    "        param = None\n",
    "    neigh = KNeighborsClassifier(n_neighbors=5, metric=dist, metric_params=param)\n",
    "    err = 1 - cross_val_score(neigh,X,y,cv=numP)\n",
    "    print('Distancia: ', dist)\n",
    "    print('Error medio: ',np.mean(err),'\\n')\n"
   ]
  },
  {
   "cell_type": "code",
   "execution_count": 4,
   "metadata": {
    "id": "q7e_3ufiAmn0",
    "outputId": "82a02808-4a16-4445-f7c1-3a90fe18b882"
   },
   "outputs": [
    {
     "name": "stdout",
     "output_type": "stream",
     "text": [
      "Media:  0.1336127930445583\n"
     ]
    }
   ],
   "source": [
    "# Regresión log\n",
    "from sklearn.linear_model import LogisticRegression, SGDClassifier\n",
    "from sklearn.model_selection import cross_val_score\n",
    "from Datos import Datos\n",
    "\n",
    "import numpy as np\n",
    "\n",
    "numP = 5\n",
    "\n",
    "\n",
    "clf = SGDClassifier(alpha=0.1)\n",
    "data = Datos('wdbc.data', predNominal=True)\n",
    "X, y = data.datos[:,:-1].astype('float'), data.datos[:,-1].astype('int')\n",
    "\n",
    "err = 1 - cross_val_score(clf,X,y,cv=numP)\n",
    "print(\"Media: \",np.mean(err))"
   ]
  },
  {
   "cell_type": "markdown",
   "metadata": {
    "id": "bxrkbewUAmn0"
   },
   "source": [
    "Curvas ROC"
   ]
  },
  {
   "cell_type": "markdown",
   "metadata": {
    "id": "dkxQLDfRAmn0"
   },
   "source": [
    "Vecinos próximos (bien escrito)"
   ]
  },
  {
   "cell_type": "code",
   "execution_count": 5,
   "metadata": {
    "id": "O2WP1lzyJ3f8"
   },
   "outputs": [],
   "source": [
    "\n",
    "import numpy as np\n",
    "from Clasificador import ClasificadorVecinosProximos\n",
    "from Datos import Datos\n",
    "from EstrategiaParticionado import ValidacionSimple\n",
    "\n",
    "from astropy.table import QTable, Table, Column\n",
    "\n",
    "def data_knn(distancias,vecinos,\n",
    "             path,numEx=5,propTest=0.2,predNominal=True):\n",
    "    header = ['Num. Vecinos'] + distancias\n",
    "\n",
    "    particionado = ValidacionSimple(propTest,numEx)\n",
    "    data = Datos(path, predNominal=predNominal)\n",
    "\n",
    "    datosTablaN = [vecinos,]\n",
    "    datosTabla = [vecinos,]\n",
    "\n",
    "    for dist in distancias:\n",
    "        lstN = []\n",
    "        lst = []\n",
    "        for k in vecinos:\n",
    "            # Normalizado\n",
    "            clN = ClasificadorVecinosProximos(k,distancia=dist)\n",
    "            erroresN = clN.validacion(particionado,data)\n",
    "            # Sin normalizar\n",
    "            cl = ClasificadorVecinosProximos(k,distancia=dist,normaliza=False)\n",
    "            errores = cl.validacion(particionado,data)\n",
    "            # Añadimos a las columnas\n",
    "            lstN.append(np.mean(erroresN))\n",
    "            lst.append(np.mean(errores))\n",
    "        datosTabla.append(lst)\n",
    "        datosTablaN.append(lstN)\n",
    "    diff = [vecinos,]+list((np.array(datosTabla)-np.array(datosTablaN))[1:])\n",
    "    return datosTablaN,datosTabla,diff\n",
    "\n",
    "def print_knn(datosTablaN,datosTabla,diff):\n",
    "    print('Sin normalizar:')\n",
    "    t = Table(datosTabla,names=header)\n",
    "    print(t)\n",
    "    print('\\n')\n",
    "\n",
    "    print('Normalizando:')\n",
    "    tN = Table(datosTablaN,names=header)\n",
    "    print(tN)\n",
    "    print('\\n')\n",
    "\n",
    "    print('Diferencias:') \n",
    "    tDif = Table(diff,names=header)\n",
    "    print(tDif)"
   ]
  },
  {
   "cell_type": "code",
   "execution_count": 6,
   "metadata": {
    "colab": {
     "base_uri": "https://localhost:8080/"
    },
    "id": "TkrZzI2LAmn0",
    "outputId": "ee42954b-35c5-4086-e652-0a7a81f8fa01"
   },
   "outputs": [
    {
     "name": "stdout",
     "output_type": "stream",
     "text": [
      "Sin normalizar:\n"
     ]
    },
    {
     "ename": "NameError",
     "evalue": "name 'header' is not defined",
     "output_type": "error",
     "traceback": [
      "\u001b[0;31m---------------------------------------------------------------------------\u001b[0m",
      "\u001b[0;31mNameError\u001b[0m                                 Traceback (most recent call last)",
      "\u001b[0;32m<ipython-input-6-e984ca422396>\u001b[0m in \u001b[0;36m<module>\u001b[0;34m\u001b[0m\n\u001b[1;32m      7\u001b[0m \u001b[0mdatosTablaN\u001b[0m\u001b[0;34m,\u001b[0m\u001b[0mdatosTabla\u001b[0m\u001b[0;34m,\u001b[0m\u001b[0mdiff\u001b[0m \u001b[0;34m=\u001b[0m \u001b[0mdata_knn\u001b[0m\u001b[0;34m(\u001b[0m\u001b[0mdistancias\u001b[0m\u001b[0;34m,\u001b[0m\u001b[0mvecinos\u001b[0m\u001b[0;34m,\u001b[0m\u001b[0;34m'wdbc.data'\u001b[0m\u001b[0;34m)\u001b[0m\u001b[0;34m\u001b[0m\u001b[0;34m\u001b[0m\u001b[0m\n\u001b[1;32m      8\u001b[0m \u001b[0;34m\u001b[0m\u001b[0m\n\u001b[0;32m----> 9\u001b[0;31m \u001b[0mprint_knn\u001b[0m\u001b[0;34m(\u001b[0m\u001b[0mdatosTablaN\u001b[0m\u001b[0;34m,\u001b[0m\u001b[0mdatosTabla\u001b[0m\u001b[0;34m,\u001b[0m\u001b[0mdiff\u001b[0m\u001b[0;34m)\u001b[0m\u001b[0;34m\u001b[0m\u001b[0;34m\u001b[0m\u001b[0m\n\u001b[0m",
      "\u001b[0;32m<ipython-input-5-cba24a89b2f5>\u001b[0m in \u001b[0;36mprint_knn\u001b[0;34m(datosTablaN, datosTabla, diff)\u001b[0m\n\u001b[1;32m     36\u001b[0m \u001b[0;32mdef\u001b[0m \u001b[0mprint_knn\u001b[0m\u001b[0;34m(\u001b[0m\u001b[0mdatosTablaN\u001b[0m\u001b[0;34m,\u001b[0m\u001b[0mdatosTabla\u001b[0m\u001b[0;34m,\u001b[0m\u001b[0mdiff\u001b[0m\u001b[0;34m)\u001b[0m\u001b[0;34m:\u001b[0m\u001b[0;34m\u001b[0m\u001b[0;34m\u001b[0m\u001b[0m\n\u001b[1;32m     37\u001b[0m     \u001b[0mprint\u001b[0m\u001b[0;34m(\u001b[0m\u001b[0;34m'Sin normalizar:'\u001b[0m\u001b[0;34m)\u001b[0m\u001b[0;34m\u001b[0m\u001b[0;34m\u001b[0m\u001b[0m\n\u001b[0;32m---> 38\u001b[0;31m     \u001b[0mt\u001b[0m \u001b[0;34m=\u001b[0m \u001b[0mTable\u001b[0m\u001b[0;34m(\u001b[0m\u001b[0mdatosTabla\u001b[0m\u001b[0;34m,\u001b[0m\u001b[0mnames\u001b[0m\u001b[0;34m=\u001b[0m\u001b[0mheader\u001b[0m\u001b[0;34m)\u001b[0m\u001b[0;34m\u001b[0m\u001b[0;34m\u001b[0m\u001b[0m\n\u001b[0m\u001b[1;32m     39\u001b[0m     \u001b[0mprint\u001b[0m\u001b[0;34m(\u001b[0m\u001b[0mt\u001b[0m\u001b[0;34m)\u001b[0m\u001b[0;34m\u001b[0m\u001b[0;34m\u001b[0m\u001b[0m\n\u001b[1;32m     40\u001b[0m     \u001b[0mprint\u001b[0m\u001b[0;34m(\u001b[0m\u001b[0;34m'\\n'\u001b[0m\u001b[0;34m)\u001b[0m\u001b[0;34m\u001b[0m\u001b[0;34m\u001b[0m\u001b[0m\n",
      "\u001b[0;31mNameError\u001b[0m: name 'header' is not defined"
     ]
    }
   ],
   "source": [
    "# WDBC\n",
    "from astropy.table import QTable, Table, Column\n",
    "\n",
    "distancias = ['euclidea','manhattan','mahalanobis']\n",
    "vecinos = [1,5,11,21]\n",
    "\n",
    "datosTablaN,datosTabla,diff = data_knn(distancias,vecinos,'wdbc.data')\n",
    "\n",
    "print_knn(datosTablaN,datosTabla,diff)"
   ]
  },
  {
   "cell_type": "code",
   "execution_count": null,
   "metadata": {
    "colab": {
     "base_uri": "https://localhost:8080/",
     "height": 295
    },
    "id": "VL0EyNBQAmn0",
    "outputId": "664ee96c-b08c-440a-bc0d-09659054b645"
   },
   "outputs": [],
   "source": [
    "# Una vez hemos visto que la normalización es mejor, nos centramos en los datos normalizados\n",
    "import matplotlib.pyplot as plt\n",
    "import matplotlib.patches as mpatches\n",
    "\n",
    "vecinos = np.array(datosTablaN)[0]\n",
    "datos = np.array(datosTablaN)[1:]\n",
    "\n",
    "# Distancia euclidea\n",
    "plt.plot(vecinos,datos[0],'r')\n",
    "# Manhattan\n",
    "plt.plot(vecinos,datos[1],'b')\n",
    "# Mahalanobis\n",
    "plt.plot(vecinos,datos[2],'g')\n",
    "\n",
    "red = mpatches.Patch(color='red', label='Euclidea')\n",
    "blue = mpatches.Patch(color='blue', label='Manhattan')\n",
    "green = mpatches.Patch(color='green', label='Mahalanobis')\n",
    "\n",
    "plt.legend(handles=[red,blue,green])\n",
    "plt.xlabel('Número de vecinos')\n",
    "plt.ylabel('Tasa de error')\n",
    "plt.title('Evaluación del error en kNN normalizado (WDBC)')\n",
    "\n",
    "plt.show()"
   ]
  },
  {
   "cell_type": "code",
   "execution_count": null,
   "metadata": {
    "colab": {
     "base_uri": "https://localhost:8080/"
    },
    "id": "10cPLMtCAmn1",
    "outputId": "c246bb1c-ec05-4884-ae6e-69082df85d8e"
   },
   "outputs": [],
   "source": [
    "# Diabetes\n",
    "from astropy.table import QTable, Table, Column\n",
    "\n",
    "distancias = ['euclidea','manhattan','mahalanobis']\n",
    "vecinos = [1,5,11,21]\n",
    "\n",
    "datosTablaN,datosTabla,diff = data_knn(distancias,vecinos,'pima-indians-diabetes.data',predNominal=False)\n",
    "\n",
    "print('Sin normalizar:')\n",
    "t = Table(datosTabla,names=header)\n",
    "print(t)\n",
    "print('\\n')\n",
    "\n",
    "print('Normalizando:')\n",
    "tN = Table(datosTablaN,names=header)\n",
    "print(tN)\n",
    "print('\\n')\n",
    "\n",
    "print('Diferencias:') \n",
    "tDif = Table(diff,names=header)\n",
    "print(tDif)"
   ]
  },
  {
   "cell_type": "code",
   "execution_count": null,
   "metadata": {
    "colab": {
     "base_uri": "https://localhost:8080/",
     "height": 295
    },
    "id": "C9KdFWzGAmn2",
    "outputId": "2138bcb1-d9f3-4a37-9c7e-f279e519c74f"
   },
   "outputs": [],
   "source": [
    "# Una vez hemos visto que la normalización es mejor, nos centramos en los datos normalizados\n",
    "import matplotlib.pyplot as plt\n",
    "import matplotlib.patches as mpatches\n",
    "\n",
    "vecinos = np.array(datosTablaN)[0]\n",
    "datos = np.array(datosTablaN)[1:]\n",
    "\n",
    "# Distancia euclidea\n",
    "plt.plot(vecinos,datos[0],'r')\n",
    "# Manhattan\n",
    "plt.plot(vecinos,datos[1],'b')\n",
    "# Mahalanobis\n",
    "plt.plot(vecinos,datos[2],'g')\n",
    "\n",
    "red = mpatches.Patch(color='red', label='Euclidea')\n",
    "blue = mpatches.Patch(color='blue', label='Manhattan')\n",
    "green = mpatches.Patch(color='green', label='Mahalanobis')\n",
    "\n",
    "plt.legend(handles=[red,blue,green])\n",
    "plt.xlabel('Número de vecinos')\n",
    "plt.ylabel('Tasa de error')\n",
    "plt.title('Evaluación del error en kNN normalizado (Indians)')\n",
    "\n",
    "plt.show()"
   ]
  },
  {
   "cell_type": "markdown",
   "metadata": {
    "id": "ggvQSieCAmn2"
   },
   "source": [
    "Regresión Logística"
   ]
  },
  {
   "cell_type": "code",
   "execution_count": null,
   "metadata": {
    "id": "vFNVauBpOwt1"
   },
   "outputs": [],
   "source": [
    "import numpy as np\n",
    "from Clasificador import ClasificadorVecinosProximos\n",
    "from Datos import Datos\n",
    "from EstrategiaParticionado import ValidacionSimple\n",
    "\n",
    "from astropy.table import QTable, Table, Column\n",
    "\n",
    "def data_log(constantes,pasos,path,numEx=5,propTest=0.2,predNominal=True):\n",
    "    particionado = ValidacionSimple(propTest,numEx)\n",
    "    data = Datos(path, predNominal=predNominal)\n",
    "\n",
    "    datosTablaN = [constantes,]\n",
    "    datosTabla = [constantes,]\n",
    "\n",
    "    for paso in pasos:\n",
    "        lstN = []\n",
    "        lst = []\n",
    "        for cte in constantes:\n",
    "            # Normalizado\n",
    "            clN = ClasificadorRegresionLogistica(eta=cte,epochs=paso)\n",
    "            erroresN = clN.validacion(particionado,data)\n",
    "            # Sin normalizar\n",
    "            cl = ClasificadorRegresionLogistica(eta=cte,epochs=paso,normaliza=False)\n",
    "            errores = cl.validacion(particionado,data)\n",
    "            # Añadimos a las columnas\n",
    "            lstN.append(np.mean(erroresN))\n",
    "            lst.append(np.mean(errores))\n",
    "        datosTabla.append(lst)\n",
    "        datosTablaN.append(lstN)\n",
    "    diff = [constantes,]+list((np.array(datosTabla)-np.array(datosTablaN))[1:])\n",
    "    return datosTablaN,datosTabla,diff\n",
    "    "
   ]
  },
  {
   "cell_type": "code",
   "execution_count": null,
   "metadata": {
    "colab": {
     "base_uri": "https://localhost:8080/"
    },
    "id": "bYwttAnoAmn2",
    "outputId": "d4aea280-3ffa-4b0c-c701-d7397149af9f"
   },
   "outputs": [],
   "source": [
    "# WDBC\n",
    "import numpy as np\n",
    "from Clasificador import ClasificadorRegresionLogistica\n",
    "from Datos import Datos\n",
    "from EstrategiaParticionado import ValidacionSimple\n",
    "\n",
    "from astropy.table import QTable, Table, Column\n",
    "\n",
    "constantes = [0.01,0.1,1,5,10,20]\n",
    "pasos = [1,10,50,100]\n",
    "\n",
    "header = ['Cte \\ Pasos'] + pasos\n",
    "\n",
    "datosTablaN,datosTabla,diff = data_log(constantes,pasos,'wdbc.data')\n",
    "\n",
    "print('Sin normalizar:')\n",
    "t = Table(datosTabla,names=header)\n",
    "print(t)\n",
    "print('\\n')\n",
    "\n",
    "print('Normalizando:')\n",
    "tN = Table(datosTablaN,names=header)\n",
    "print(tN)\n",
    "print('\\n')\n",
    "\n",
    "print('Diferencias:') \n",
    "tDif = Table(diff,names=header)\n",
    "print(tDif)"
   ]
  },
  {
   "cell_type": "code",
   "execution_count": null,
   "metadata": {
    "colab": {
     "base_uri": "https://localhost:8080/",
     "height": 295
    },
    "id": "-fJ0Or6eAmn2",
    "outputId": "048c4553-dce3-454b-c918-43cc37e5612a"
   },
   "outputs": [],
   "source": [
    "# Una vez hemos visto que la normalización es mejor, nos centramos en los datos normalizados\n",
    "import matplotlib.pyplot as plt\n",
    "import matplotlib.patches as mpatches\n",
    "\n",
    "consts = np.array(datosTablaN)[0]\n",
    "datos = np.array(datosTablaN)[1:]\n",
    "\n",
    "# 1 PASO\n",
    "plt.plot(consts,datos[0],'r')\n",
    "# 10 PASOS\n",
    "plt.plot(consts,datos[1],'b')\n",
    "# 50 PASOS\n",
    "plt.plot(consts,datos[2],'g')\n",
    "# 100 PASOS\n",
    "plt.plot(consts,datos[3],'k')\n",
    "\n",
    "red = mpatches.Patch(color='red', label='1 paso')\n",
    "blue = mpatches.Patch(color='blue', label='10 pasos')\n",
    "green = mpatches.Patch(color='green', label='50 pasos')\n",
    "black = mpatches.Patch(color='black', label='100 pasos')\n",
    "\n",
    "plt.legend(handles=[red,blue,green,black])\n",
    "plt.xlabel('Constante de aprendizaje (log)')\n",
    "plt.ylabel('Tasa de error')\n",
    "plt.title('Evaluación del error en regresión logística normalizada (WDBC)')\n",
    "\n",
    "plt.show()"
   ]
  },
  {
   "cell_type": "code",
   "execution_count": null,
   "metadata": {},
   "outputs": [],
   "source": [
    "# Indians\n",
    "import numpy as np\n",
    "from Clasificador import ClasificadorRegresionLogistica\n",
    "from Datos import Datos\n",
    "from EstrategiaParticionado import ValidacionSimple\n",
    "\n",
    "from astropy.table import QTable, Table, Column\n",
    "\n",
    "constantes = [0.01,0.1,1,5,10,20]\n",
    "pasos = [1,10,50,100]\n",
    "\n",
    "header = ['Cte \\ Pasos'] + pasos\n",
    "\n",
    "datosTablaN,datosTabla,diff = data_log(constantes,pasos,'pima-indians-diabetes.data',predNominal=False)\n",
    "\n",
    "print('Sin normalizar:')\n",
    "t = Table(datosTabla,names=header)\n",
    "print(t)\n",
    "print('\\n')\n",
    "\n",
    "print('Normalizando:')\n",
    "tN = Table(datosTablaN,names=header)\n",
    "print(tN)\n",
    "print('\\n')\n",
    "\n",
    "print('Diferencias:') \n",
    "tDif = Table(diff,names=header)\n",
    "print(tDif)"
   ]
  },
  {
   "cell_type": "code",
   "execution_count": null,
   "metadata": {},
   "outputs": [],
   "source": [
    "# Una vez hemos visto que la normalización es mejor, nos centramos en los datos normalizados\n",
    "import matplotlib.pyplot as plt\n",
    "import matplotlib.patches as mpatches\n",
    "\n",
    "consts = np.array(datosTablaN)[0]\n",
    "datos = np.array(datosTablaN)[1:]\n",
    "\n",
    "# 1 PASO\n",
    "plt.plot(consts,datos[0],'r')\n",
    "# 10 PASOS\n",
    "plt.plot(consts,datos[1],'b')\n",
    "# 50 PASOS\n",
    "plt.plot(consts,datos[2],'g')\n",
    "# 100 PASOS\n",
    "plt.plot(consts,datos[3],'k')\n",
    "\n",
    "red = mpatches.Patch(color='red', label='1 paso')\n",
    "blue = mpatches.Patch(color='blue', label='10 pasos')\n",
    "green = mpatches.Patch(color='green', label='50 pasos')\n",
    "black = mpatches.Patch(color='black', label='100 pasos')\n",
    "\n",
    "plt.legend(handles=[red,blue,green,black])\n",
    "plt.xlabel('Constante de aprendizaje (log)')\n",
    "plt.ylabel('Tasa de error')\n",
    "plt.title('Evaluación del error en regresión logística normalizada (Indians)')\n",
    "\n",
    "plt.show()"
   ]
  },
  {
   "cell_type": "markdown",
   "metadata": {},
   "source": [
    "Scipy: kNN"
   ]
  },
  {
   "cell_type": "code",
   "execution_count": null,
   "metadata": {},
   "outputs": [],
   "source": [
    "import numpy as np\n",
    "from Clasificador import ClasificadorVecinosProximos\n",
    "from Datos import Datos\n",
    "from EstrategiaParticionado import ValidacionSimple\n",
    "\n",
    "from sklearn.model_selection import train_test_split\n",
    "from sklearn.neighbors import KNeighborsClassifier\n",
    "\n",
    "import matplotlib.pyplot as plt\n",
    "import matplotlib.patches as mpatches\n",
    "\n",
    "def compare_scipy_knn(distancia,vecinos,path,numEx=5,propTest=0.2,predNominal=True):\n",
    "    particionado = ValidacionSimple(propTest,numEx)\n",
    "    data = Datos(path, predNominal=predNominal)\n",
    "    \n",
    "    X = data.datos[:,:-1]\n",
    "    y = data.datos[:,-1].astype('int')\n",
    "\n",
    "    datosScipy = []\n",
    "    datosPropios = []\n",
    "    \n",
    "    if distancia == 'euclidea':\n",
    "        dist = 'euclidean'\n",
    "    else:\n",
    "        dist = distancia\n",
    "\n",
    "    for vecino in vecinos:\n",
    "        # Cálculo de datos Scipy\n",
    "        results = []\n",
    "        for _ in range(numEx):\n",
    "            X_train, X_test, y_train, y_test = train_test_split(X,y,test_size=propTest)\n",
    "            if distancia == 'mahalanobis':\n",
    "                param = {V: np.cov(np.transpose(X_train))}\n",
    "            else:\n",
    "                param = None\n",
    "            \n",
    "            clf = KNeighborsClassifier(n_neighbors=vecino, metric=dist, metric_params=param)\n",
    "            clf.fit(X_train, y_train)\n",
    "            results.append(1 - clf.score(X_test,y_test))\n",
    "        datosScipy.append(np.mean(results))\n",
    "        \n",
    "        # Cálculo de datos propios\n",
    "        clf = ClasificadorVecinosProximos(vecino,distancia=distancia)\n",
    "        datosPropios.append(np.mean(clf.validacion(particionado,data)))\n",
    "            \n",
    "        \n",
    "    return datosScipy, datosPropios\n",
    "\n",
    "def plot_diff_knn(vecinos, datosScipy, datosPropios, title=None):\n",
    "    plt.plot(vecinos,datosScipy,'r')\n",
    "    plt.plot(vecinos,datosPropios, 'b')\n",
    "    \n",
    "    red = mpatches.Patch(color='red', label='Scipy')\n",
    "    blue = mpatches.Patch(color='blue', label='Propio')\n",
    "    \n",
    "    plt.legend(handles=[red,blue])\n",
    "    plt.xlabel('Número de vecinos')\n",
    "    plt.ylabel('Tasa de error')\n",
    "    plt.title(title)\n",
    "    \n",
    "    plt.show()"
   ]
  },
  {
   "cell_type": "markdown",
   "metadata": {},
   "source": [
    "WDBC"
   ]
  },
  {
   "cell_type": "code",
   "execution_count": null,
   "metadata": {},
   "outputs": [],
   "source": [
    "# Distancia euclidea\n",
    "vecinos = [1,5,11,21]\n",
    "datosScipy, datosPropios = compare_scipy_knn('euclidea',vecinos,'wdbc.data',numEx=3)\n",
    "\n",
    "plot_diff_knn(vecinos, datosScipy, datosPropios, 'Distancia Euclidea (WDBC)')"
   ]
  },
  {
   "cell_type": "markdown",
   "metadata": {},
   "source": [
    "Scipy: Regresión Logística"
   ]
  },
  {
   "cell_type": "code",
   "execution_count": null,
   "metadata": {},
   "outputs": [],
   "source": [
    "import numpy as np\n",
    "from Clasificador import ClasificadorRegresionLogistica\n",
    "from Datos import Datos\n",
    "from EstrategiaParticionado import ValidacionSimple\n",
    "\n",
    "from sklearn.model_selection import train_test_split\n",
    "from sklearn.linear_model import SGDClassifier\n",
    "\n",
    "import matplotlib.pyplot as plt\n",
    "import matplotlib.patches as mpatches\n",
    "\n",
    "def compare_scipy_reg(cte,epocas,path,numEx=5,propTest=0.2,predNominal=True):\n",
    "    particionado = ValidacionSimple(propTest,numEx)\n",
    "    data = Datos(path, predNominal=predNominal)\n",
    "    \n",
    "    X = data.datos[:,:-1]\n",
    "    y = data.datos[:,-1].astype('int')\n",
    "\n",
    "    datosScipy = []\n",
    "    datosPropios = []\n",
    "\n",
    "    for epoca in epocas:\n",
    "        # Cálculo de datos Scipy\n",
    "        results = []\n",
    "        for _ in range(numEx):\n",
    "            X_train, X_test, y_train, y_test = train_test_split(X,y,test_size=propTest)\n",
    "            \n",
    "            clf = SGDClassifier(learning_rate='constant',eta0=cte,tol=None,max_iter=epoca)\n",
    "            clf.fit(X_train, y_train)\n",
    "            results.append(1 - clf.score(X_test,y_test))\n",
    "        datosScipy.append(np.mean(results))\n",
    "        \n",
    "        # Cálculo de datos propios\n",
    "        clf = ClasificadorRegresionLogistica(eta=cte,epochs=epoca)\n",
    "        datosPropios.append(np.mean(clf.validacion(particionado,data)))\n",
    "            \n",
    "        \n",
    "    return datosScipy, datosPropios\n",
    "\n",
    "def plot_diff_reg(vecinos, datosScipy, datosPropios, title=None):\n",
    "    plt.plot(vecinos,datosScipy,'r')\n",
    "    plt.plot(vecinos,datosPropios, 'b')\n",
    "    \n",
    "    red = mpatches.Patch(color='red', label='Scipy')\n",
    "    blue = mpatches.Patch(color='blue', label='Propio')\n",
    "    \n",
    "    plt.legend(handles=[red,blue])\n",
    "    plt.xlabel('Número de vecinos')\n",
    "    plt.ylabel('Tasa de error')\n",
    "    plt.title(title)\n",
    "    \n",
    "    plt.show()"
   ]
  },
  {
   "cell_type": "code",
   "execution_count": null,
   "metadata": {},
   "outputs": [],
   "source": [
    "# eta = 0.1\n",
    "epocas = [1,20,50,100]\n",
    "datosScipy, datosPropios = compare_scipy_reg(0.1,epocas,'pima-indians-diabetes.data',numEx=20,predNominal=False)\n",
    "\n",
    "plot_diff_reg(epocas, datosScipy, datosPropios, 'Eta = 0.1 (WDBC)')"
   ]
  },
  {
   "cell_type": "code",
   "execution_count": 15,
   "metadata": {},
   "outputs": [],
   "source": [
    "from EstrategiaParticionado import ValidacionSimple\n",
    "from Datos import Datos\n",
    "from Clasificador import ClasificadorNaiveBayes, ClasificadorVecinosProximos, ClasificadorRegresionLogistica\n",
    "import matplotlib.pyplot as plt\n",
    "\n",
    "def plot_conf_mat(conf_mat):\n",
    "    err = (conf_mat[0,1] + conf_mat[1,0])/np.sum(conf_mat)\n",
    "    tpr = conf_mat[0,0] / np.sum(conf_mat[0])\n",
    "    fpr = conf_mat[1,0] / np.sum(conf_mat[1])\n",
    "    x = [0, fpr, 1]\n",
    "    y = [0, tpr, 1]\n",
    "    return (x, y, err)\n",
    "\n",
    "def show_roc_curves(clasificadores, datos, proporcionTest=0.3, numeroEjecuciones=10, title='No title'):\n",
    "    particionado = ValidacionSimple(proporcionTest, numeroEjecuciones)\n",
    "    errs = np.zeros_like(clasificadores, dtype='float64')\n",
    "    for i, clsf in enumerate(clasificadores):\n",
    "        conf_mat= clsf.get_confusion_matrix(particionado,datos)\n",
    "        x, y, err = plot_conf_mat(conf_mat)\n",
    "        errs[i] = err\n",
    "        plt.plot(x, y, label=str(clsf))\n",
    "    plt.ylabel('sensibilidad')\n",
    "    plt.xlabel('1 - especificidad')\n",
    "    plt.title(title)\n",
    "    plt.legend()\n",
    "    plt.show()\n",
    "    return errs\n",
    "        "
   ]
  },
  {
   "cell_type": "code",
   "execution_count": 16,
   "metadata": {},
   "outputs": [
    {
     "data": {
      "image/png": "[encoded data removed]",
      "text/plain": [
       "<matplotlib.figure.Figure at 0x7f638c688d68>"
      ]
     },
     "metadata": {
      "needs_background": "light"
     },
     "output_type": "display_data"
    },
    {
     "data": {
      "image/png": "[encoded data removed]",
      "text/plain": [
       "<matplotlib.figure.Figure at 0x7f638c7d1cc0>"
      ]
     },
     "metadata": {
      "needs_background": "light"
     },
     "output_type": "display_data"
    },
    {
     "data": {
      "text/plain": [
       "array([0.27913043, 0.2973913 , 0.2373913 ])"
      ]
     },
     "execution_count": 16,
     "metadata": {},
     "output_type": "execute_result"
    }
   ],
   "source": [
    "indiansData = Datos('pima-indians-diabetes.data',predNominal=True)\n",
    "wdbcData = Datos('wdbc.data', predNominal=True)\n",
    "clsfNB = ClasificadorNaiveBayes(laplace=True)\n",
    "clsfVP = ClasificadorVecinosProximos(numeroVecinos=5, distancia='manhattan',normaliza=True)\n",
    "clsfRL = ClasificadorRegresionLogistica(eta=0.7,epochs=100,normaliza=True)\n",
    "\n",
    "clasificadores = [clsfVP, clsfRL, clsfNB]\n",
    "show_roc_curves(clasificadores, wdbcData, title='Datos indians')\n",
    "show_roc_curves(clasificadores, indiansData, title='Datos wdbc')\n",
    "\n"
   ]
  },
  {
   "cell_type": "code",
   "execution_count": 1,
   "metadata": {},
   "outputs": [],
   "source": [
    "import numpy as np\n",
    "\n",
    "from Clasificador import ClasificadorNaiveBayes\n",
    "\n",
    "nb = ClasificadorNaiveBayes(laplace=True)\n",
    "nbl = ClasificadorNaiveBayes(laplace=False)\n",
    "\n",
    "datos = [\n",
    "    [0,0,1,1],\n",
    "    [0,0,0,1],\n",
    "    [0,0,0,1],\n",
    "    [0,0,0,1],\n",
    "    [0,0,0,0],\n",
    "    [0,0,0,1],\n",
    "    [0,0,0,1],\n",
    "    [0,0,0,1],\n",
    "    [0,1,0,0],\n",
    "    [1,1,0,0],\n",
    "    [0,1,0,1],\n",
    "    [1,1,0,0],\n",
    "    [0,1,0,1],\n",
    "    [1,1,0,0],\n",
    "    [0,1,1,1],\n",
    "    [1,1,0,0]\n",
    "]\n",
    "\n",
    "datos = np.array(datos)\n",
    "\n",
    "nominal=[False,False,False,True]\n",
    "diccionario = [[0,1],[0,1],[0,1],[0,1]]\n",
    "\n",
    "nb.entrenamiento(datos,nominal,diccionario)\n",
    "nbl.entrenamiento(datos,nominal,diccionario)"
   ]
  },
  {
   "cell_type": "code",
   "execution_count": 2,
   "metadata": {},
   "outputs": [
    {
     "data": {
      "text/plain": [
       "[(array([0.66666667, 0.        ]), array([0.47140452, 0.        ])),\n",
       " (array([0.83333333, 0.3       ]), array([0.372678  , 0.45825757])),\n",
       " (array([0. , 0.2]), array([0. , 0.4])),\n",
       " array([0.375, 0.625])]"
      ]
     },
     "execution_count": 2,
     "metadata": {},
     "output_type": "execute_result"
    }
   ],
   "source": [
    "nb.trainInfo"
   ]
  },
  {
   "cell_type": "code",
   "execution_count": 3,
   "metadata": {},
   "outputs": [
    {
     "data": {
      "text/plain": [
       "[(array([0.66666667, 0.        ]), array([0.47140452, 0.        ])),\n",
       " (array([0.83333333, 0.3       ]), array([0.372678  , 0.45825757])),\n",
       " (array([0. , 0.2]), array([0. , 0.4])),\n",
       " array([0.375, 0.625])]"
      ]
     },
     "execution_count": 3,
     "metadata": {},
     "output_type": "execute_result"
    }
   ],
   "source": [
    "nbl.trainInfo"
   ]
  },
  {
   "cell_type": "code",
   "execution_count": 4,
   "metadata": {},
   "outputs": [
    {
     "name": "stdout",
     "output_type": "stream",
     "text": [
      "NaiveBayes\n"
     ]
    }
   ],
   "source": [
    "print(nb)"
   ]
  }
 ],
 "metadata": {
  "colab": {
   "name": "Pruebas.ipynb",
   "provenance": []
  },
  "kernelspec": {
   "display_name": "Python 3",
   "language": "python",
   "name": "python3"
  },
  "language_info": {
   "codemirror_mode": {
    "name": "ipython",
    "version": 3
   },
   "file_extension": ".py",
   "mimetype": "text/x-python",
   "name": "python",
   "nbconvert_exporter": "python",
   "pygments_lexer": "ipython3",
   "version": "3.6.9"
  }
 },
 "nbformat": 4,
 "nbformat_minor": 1
}
