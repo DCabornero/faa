{
 "cells": [
  {
   "cell_type": "code",
   "execution_count": 1,
   "metadata": {},
   "outputs": [
    {
     "name": "stdout",
     "output_type": "stream",
     "text": [
      "[[2 2 2 ... 1 1 1]\n",
      " [2 2 2 ... 2 1 1]\n",
      " [2 2 2 ... 1 2 1]\n",
      " ...\n",
      " [1 2 1 ... 1 2 0]\n",
      " [1 2 1 ... 1 2 0]\n",
      " [1 1 2 ... 2 2 0]]\n",
      "[array([[0.065762  , 0.14822547],\n",
      "       [0.15240084, 0.19728601],\n",
      "       [0.12839248, 0.30793319]]), array([[0.08141962, 0.17954071],\n",
      "       [0.10542797, 0.23903967],\n",
      "       [0.15970772, 0.2348643 ]]), array([[0.065762  , 0.14822547],\n",
      "       [0.15240084, 0.19728601],\n",
      "       [0.12839248, 0.30793319]]), array([[0.08141962, 0.17954071],\n",
      "       [0.10542797, 0.23903967],\n",
      "       [0.15970772, 0.2348643 ]]), array([[0.05010438, 0.11691023],\n",
      "       [0.20041754, 0.15448852],\n",
      "       [0.0960334 , 0.38204593]]), array([[0.08141962, 0.17954071],\n",
      "       [0.10542797, 0.23903967],\n",
      "       [0.15970772, 0.2348643 ]]), array([[0.065762  , 0.14822547],\n",
      "       [0.15240084, 0.19728601],\n",
      "       [0.12839248, 0.30793319]]), array([[0.08141962, 0.17954071],\n",
      "       [0.10542797, 0.23903967],\n",
      "       [0.15970772, 0.2348643 ]]), array([[0.065762  , 0.14822547],\n",
      "       [0.15240084, 0.19728601],\n",
      "       [0.12839248, 0.30793319]]), array([0.34655532, 0.65344468])]\n"
     ]
    }
   ],
   "source": [
    "import numpy as np\n",
    "from Clasificador import ClasificadorNaiveBayes\n",
    "from Datos import Datos\n",
    "\n",
    "data = Datos('tic-tac-toe.data')\n",
    "print(data.datos)\n",
    "cl = ClasificadorNaiveBayes()\n",
    "\n",
    "#Prueba de error\n",
    "#print(cl.error(data.datos,2*np.ones(data.datos.shape[0])))\n",
    "\n",
    "#Prueba de entrenamiento\n",
    "cl.entrenamiento(data.datos,data.nominalAtributos,data.diccionario)\n",
    "print(cl.entrenamientoAux)"
   ]
  },
  {
   "cell_type": "code",
   "execution_count": null,
   "metadata": {},
   "outputs": [],
   "source": []
  },
  {
   "cell_type": "code",
   "execution_count": null,
   "metadata": {},
   "outputs": [],
   "source": []
  }
 ],
 "metadata": {
  "kernelspec": {
   "display_name": "Python 3",
   "language": "python",
   "name": "python3"
  },
  "language_info": {
   "codemirror_mode": {
    "name": "ipython",
    "version": 3
   },
   "file_extension": ".py",
   "mimetype": "text/x-python",
   "name": "python",
   "nbconvert_exporter": "python",
   "pygments_lexer": "ipython3",
   "version": "3.8.3"
  }
 },
 "nbformat": 4,
 "nbformat_minor": 4
}
