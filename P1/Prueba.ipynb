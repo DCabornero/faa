{
 "cells": [
  {
   "cell_type": "code",
   "execution_count": 1,
   "metadata": {},
   "outputs": [],
   "source": [
    "import numpy as np\n",
    "from Clasificador import ClasificadorNaiveBayes\n",
    "from Datos import Datos\n",
    "from EstrategiaParticionado import ValidacionSimple, ValidacionCruzada\n",
    "\n",
    "cl = ClasificadorNaiveBayes()"
   ]
  },
  {
   "cell_type": "code",
   "execution_count": 2,
   "metadata": {},
   "outputs": [
    {
     "name": "stdout",
     "output_type": "stream",
     "text": [
      "[0.304]\n"
     ]
    }
   ],
   "source": [
    "data = Datos('german.data', predNominal=True)\n",
    "# print(data.datos)\n",
    "\n",
    "val = ValidacionSimple(0.75,1)\n",
    "#Prueba de error\n",
    "#print(cl.error(data.datos,2*np.ones(data.datos.shape[0])))\n",
    "\n",
    "#Prueba de entrenamiento\n",
    "# cl.entrenamiento(data.datos,data.nominalAtributos,data.diccionario)\n",
    "# print(cl.entrenamientoAux)\n",
    "\n",
    "#Prueba de test\n",
    "# clas = cl.clasifica(data.datos,data.nominalAtributos,data.diccionario)\n",
    "# print(clas)\n",
    "# print(cl.error(data.datos,clas))\n",
    "\n",
    "print(cl.validacion(val, data, laplace=True))"
   ]
  },
  {
   "cell_type": "code",
   "execution_count": 3,
   "metadata": {},
   "outputs": [
    {
     "name": "stdout",
     "output_type": "stream",
     "text": [
      "[0.5106383  0.29787234 0.27659574 0.36170213 0.34042553 0.29787234\n",
      " 0.23404255 0.21276596 0.29787234 0.34042553 0.29787234 0.23404255\n",
      " 0.34042553 0.34042553 0.19148936 0.27659574 0.36170213 0.36170213\n",
      " 0.31914894 0.26153846]\n"
     ]
    }
   ],
   "source": [
    "data = Datos('tic-tac-toe.data', predNominal=True)\n",
    "# print(data.datos)\n",
    "val = ValidacionCruzada(10)\n",
    "#Prueba de error\n",
    "#print(cl.error(data.datos,2*np.ones(data.datos.shape[0])))\n",
    "\n",
    "#Prueba de entrenamiento\n",
    "# cl.entrenamiento(data.datos,data.nominalAtributos,data.diccionario)\n",
    "# print(cl.entrenamientoAux)\n",
    "\n",
    "#Prueba de test\n",
    "# clas = cl.clasifica(data.datos,data.nominalAtributos,data.diccionario)\n",
    "# print(clas)\n",
    "# print(cl.error(data.datos,clas))\n",
    "\n",
    "print(cl.validacion(val, data))"
   ]
  },
  {
   "cell_type": "code",
   "execution_count": 4,
   "metadata": {},
   "outputs": [
    {
     "name": "stdout",
     "output_type": "stream",
     "text": [
      "[[0.77777778 0.33333333]\n",
      " [0.22222222 0.66666667]]\n"
     ]
    }
   ],
   "source": [
    "arr = [(0,0),(1,0),(0,0),(1,1),(0,0),(0,0),(0,0),(0,0)]\n",
    "print(cl.procesaDiscreto(arr,2,2,True))"
   ]
  }
 ],
 "metadata": {
  "kernelspec": {
   "display_name": "Python 3",
   "language": "python",
   "name": "python3"
  },
  "language_info": {
   "codemirror_mode": {
    "name": "ipython",
    "version": 3
   },
   "file_extension": ".py",
   "mimetype": "text/x-python",
   "name": "python",
   "nbconvert_exporter": "python",
   "pygments_lexer": "ipython3",
   "version": "3.8.3"
  }
 },
 "nbformat": 4,
 "nbformat_minor": 4
}
