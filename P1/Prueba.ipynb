{
 "cells": [
  {
   "cell_type": "code",
   "execution_count": 4,
   "metadata": {},
   "outputs": [],
   "source": [
    "import numpy as np\n",
    "from Clasificador import ClasificadorNaiveBayes\n",
    "from Datos import Datos\n",
    "from EstrategiaParticionado import ValidacionSimple, ValidacionCruzada\n",
    "\n",
    "cl = ClasificadorNaiveBayes()"
   ]
  },
  {
   "cell_type": "code",
   "execution_count": 8,
   "metadata": {},
   "outputs": [
    {
     "name": "stdout",
     "output_type": "stream",
     "text": [
      "(0.3053333333333333, 0.01694435336951844)\n"
     ]
    }
   ],
   "source": [
    "data = Datos('german.data', predNominal=True)\n",
    "# print(data.datos)\n",
    "\n",
    "val = ValidacionSimple(0.3,5)\n",
    "#Prueba de error\n",
    "#print(cl.error(data.datos,2*np.ones(data.datos.shape[0])))\n",
    "\n",
    "#Prueba de entrenamiento\n",
    "# cl.entrenamiento(data.datos,data.nominalAtributos,data.diccionario)\n",
    "# print(cl.entrenamientoAux)\n",
    "\n",
    "#Prueba de test\n",
    "# clas = cl.clasifica(data.datos,data.nominalAtributos,data.diccionario)\n",
    "# print(clas)\n",
    "# print(cl.error(data.datos,clas))\n",
    "\n",
    "print(cl.validacion(val, data))"
   ]
  },
  {
   "cell_type": "code",
   "execution_count": 3,
   "metadata": {},
   "outputs": [
    {
     "name": "stdout",
     "output_type": "stream",
     "text": [
      "(0.3030932896890344, 0.054543460510503246)\n"
     ]
    }
   ],
   "source": [
    "data = Datos('tic-tac-toe.data', predNominal=True)\n",
    "# print(data.datos)\n",
    "val = ValidacionCruzada(20)\n",
    "#Prueba de error\n",
    "#print(cl.error(data.datos,2*np.ones(data.datos.shape[0])))\n",
    "\n",
    "#Prueba de entrenamiento\n",
    "# cl.entrenamiento(data.datos,data.nominalAtributos,data.diccionario)\n",
    "# print(cl.entrenamientoAux)\n",
    "\n",
    "#Prueba de test\n",
    "# clas = cl.clasifica(data.datos,data.nominalAtributos,data.diccionario)\n",
    "# print(clas)\n",
    "# print(cl.error(data.datos,clas))\n",
    "\n",
    "print(cl.validacion(val, data))"
   ]
  },
  {
   "cell_type": "code",
   "execution_count": null,
   "metadata": {},
   "outputs": [],
   "source": []
  }
 ],
 "metadata": {
  "kernelspec": {
   "display_name": "Python 3",
   "language": "python",
   "name": "python3"
  }
 },
 "nbformat": 4,
 "nbformat_minor": 4
}
