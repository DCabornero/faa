{
 "cells": [
  {
   "cell_type": "code",
   "execution_count": 3,
   "metadata": {},
   "outputs": [
    {
     "name": "stdout",
     "output_type": "stream",
     "text": [
      "[[0 6 4 ... 1 0 1]\n",
      " [1 48 2 ... 0 0 2]\n",
      " [3 12 4 ... 0 0 1]\n",
      " ...\n",
      " [3 12 2 ... 0 0 1]\n",
      " [0 45 2 ... 1 0 2]\n",
      " [1 45 4 ... 0 0 1]]\n",
      "0.7\n"
     ]
    }
   ],
   "source": [
    "import numpy as np\n",
    "from Clasificador import Clasificador\n",
    "from Datos import Datos\n",
    "\n",
    "data = Datos('german.data')\n",
    "print(data.datos)\n",
    "cl = Clasificador()\n",
    "\n",
    "#Prueba de error\n",
    "print(cl.error(data.datos,2*np.ones(data.datos.shape[0])))"
   ]
  },
  {
   "cell_type": "code",
   "execution_count": null,
   "metadata": {},
   "outputs": [],
   "source": []
  },
  {
   "cell_type": "code",
   "execution_count": null,
   "metadata": {},
   "outputs": [],
   "source": []
  }
 ],
 "metadata": {
  "kernelspec": {
   "display_name": "Python 3",
   "language": "python",
   "name": "python3"
  },
  "language_info": {
   "codemirror_mode": {
    "name": "ipython",
    "version": 3
   },
   "file_extension": ".py",
   "mimetype": "text/x-python",
   "name": "python",
   "nbconvert_exporter": "python",
   "pygments_lexer": "ipython3",
   "version": "3.8.3"
  }
 },
 "nbformat": 4,
 "nbformat_minor": 4
}
