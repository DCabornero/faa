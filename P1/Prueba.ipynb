{
 "cells": [
  {
   "cell_type": "code",
   "execution_count": 4,
   "metadata": {},
   "outputs": [],
   "source": [
    "import numpy as np\n",
    "from Clasificador import Clasificador, ClasificadorNaiveBayes\n",
    "from Datos import Datos\n",
    "from EstrategiaParticionado import ValidacionSimple, ValidacionCruzada\n",
    "\n",
    "cl = Clasificador()\n",
    "NB = ClasificadorNaiveBayes()"
   ]
  },
  {
   "cell_type": "code",
   "execution_count": 2,
   "metadata": {},
   "outputs": [
    {
     "name": "stdout",
     "output_type": "stream",
     "text": [
      "[0.30666667]\n"
     ]
    }
   ],
   "source": [
    "data = Datos('german.data', predNominal=True)\n",
    "# print(data.datos)\n",
    "\n",
    "val = ValidacionSimple(0.75,1)\n",
    "#Prueba de error\n",
    "#print(cl.error(data.datos,2*np.ones(data.datos.shape[0])))\n",
    "\n",
    "#Prueba de entrenamiento\n",
    "# cl.entrenamiento(data.datos,data.nominalAtributos,data.diccionario)\n",
    "# print(cl.entrenamientoAux)\n",
    "\n",
    "#Prueba de test\n",
    "# clas = cl.clasifica(data.datos,data.nominalAtributos,data.diccionario)\n",
    "# print(clas)\n",
    "# print(cl.error(data.datos,clas))\n",
    "\n",
    "print(cl.validacion(val, data, clasificador=NB, laplace=True))"
   ]
  },
  {
   "cell_type": "code",
   "execution_count": 8,
   "metadata": {},
   "outputs": [
    {
     "name": "stdout",
     "output_type": "stream",
     "text": [
      "[0.32 0.53 0.46 0.49 0.49 0.45 0.39 0.5  0.44 0.26]\n"
     ]
    }
   ],
   "source": [
    "data = Datos('german.data', predNominal=True)\n",
    "# print(data.datos)\n",
    "val = ValidacionCruzada(10)\n",
    "#Prueba de error\n",
    "#print(cl.error(data.datos,2*np.ones(data.datos.shape[0])))\n",
    "\n",
    "#Prueba de entrenamiento\n",
    "# cl.entrenamiento(data.datos,data.nominalAtributos,data.diccionario)\n",
    "# print(cl.entrenamientoAux)\n",
    "\n",
    "#Prueba de test\n",
    "# clas = cl.clasifica(data.datos,data.nominalAtributos,data.diccionario)\n",
    "# print(clas)\n",
    "# print(cl.error(data.datos,clas))\n",
    "\n",
    "print(cl.validacion(val, data, NB))"
   ]
  },
  {
   "cell_type": "code",
   "execution_count": 4,
   "metadata": {},
   "outputs": [
    {
     "name": "stdout",
     "output_type": "stream",
     "text": [
      "[[0.77777778 0.33333333]\n",
      " [0.22222222 0.66666667]]\n"
     ]
    }
   ],
   "source": [
    "arr = [(0,0),(1,0),(0,0),(1,1),(0,0),(0,0),(0,0),(0,0)]\n",
    "print(cl.procesaDiscreto(arr,2,2,True))"
   ]
  }
 ],
 "metadata": {
  "kernelspec": {
   "display_name": "Python 3",
   "language": "python",
   "name": "python3"
  },
  "language_info": {
   "codemirror_mode": {
    "name": "ipython",
    "version": 3
   },
   "file_extension": ".py",
   "mimetype": "text/x-python",
   "name": "python",
   "nbconvert_exporter": "python",
   "pygments_lexer": "ipython3",
   "version": "3.8.3"
  }
 },
 "nbformat": 4,
 "nbformat_minor": 4
}
