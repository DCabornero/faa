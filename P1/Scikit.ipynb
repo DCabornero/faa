{
 "cells": [
  {
   "cell_type": "markdown",
   "metadata": {},
   "source": [
    "Validación"
   ]
  },
  {
   "cell_type": "code",
   "execution_count": 2,
   "metadata": {},
   "outputs": [],
   "source": [
    "import numpy as np\n",
    "from sklearn.model_selection import train_test_split, ShuffleSplit, kFold\n",
    "from Datos import Datos\n",
    "\n",
    "data = Datos('german.data', predNominal=True)\n",
    "dataset = data.datos\n",
    "X = dataset[:,:-1]\n",
    "y = dataset[:,-1]\n",
    "\n",
    "# Validación simple:\n",
    "X_train, X_test, y_train, y_test = train_test_split(X,y,test_size=0.2)\n",
    "\n",
    "# Alternativa: ShuffleSplit. Vas a pelo. Te shufflea los índices y luego le enchufas la matriz que quieras.\n",
    "# Sinceramente, existiendo la otra que nos manden ver esta es un despropósito.\n",
    "sp = ShuffleSplit(n_splits=10, test_size=0.2) \n",
    "#Puedes indicar un train_size si no quieres que se utilicen \n",
    "#todos los datos\n",
    "for train_index, test_index in sp.split(X,y):\n",
    "    # El bucle corre n_splits veces\n",
    "    X_train = X[train_index,:]\n",
    "    y_train = y[train_index]\n",
    "    X_test = X[test_index,:]\n",
    "    y_test = y[test_index]\n",
    "\n",
    "\n",
    "# Validación cruzada: lo veremos más tarde, ya que se utilizan las funciones que entrenan directamente\n",
    "# Altenativa: kFold. Mismo principio que ShuffleSplit\n",
    "kf = kFold(n_splits=20)\n",
    "for train_index, test_index in kf.split(X,y):\n",
    "    # El bucle corre n_splits veces\n",
    "    X_train = X[train_index,:]\n",
    "    y_train = y[train_index]\n",
    "    X_test = X[test_index,:]\n",
    "    y_test = y[test_index]"
   ]
  },
  {
   "cell_type": "code",
   "execution_count": null,
   "metadata": {},
   "outputs": [],
   "source": []
  }
 ],
 "metadata": {
  "kernelspec": {
   "display_name": "Python 3",
   "language": "python",
   "name": "python3"
  },
  "language_info": {
   "codemirror_mode": {
    "name": "ipython",
    "version": 3
   },
   "file_extension": ".py",
   "mimetype": "text/x-python",
   "name": "python",
   "nbconvert_exporter": "python",
   "pygments_lexer": "ipython3",
   "version": "3.8.3"
  }
 },
 "nbformat": 4,
 "nbformat_minor": 4
}
