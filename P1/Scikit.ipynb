{
 "cells": [
  {
   "cell_type": "markdown",
   "metadata": {},
   "source": [
    "Validación"
   ]
  },
  {
   "cell_type": "code",
   "execution_count": 13,
   "metadata": {},
   "outputs": [],
   "source": [
    "import numpy as np\n",
    "from sklearn.model_selection import train_test_split, ShuffleSplit, KFold\n",
    "from Datos import Datos\n",
    "\n",
    "data = Datos('german.data', predNominal=True)\n",
    "dataset = data.datos\n",
    "X = dataset[:,:-1]\n",
    "y = dataset[:,-1]\n",
    "\n",
    "# Validación simple:\n",
    "X_train, X_test, y_train, y_test = train_test_split(X,y,test_size=0.2)\n",
    "\n",
    "# Alternativa: ShuffleSplit. Vas a pelo. Te shufflea los índices y luego le enchufas la matriz que quieras.\n",
    "# Sinceramente, existiendo la otra que nos manden ver esta es un despropósito.\n",
    "sp = ShuffleSplit(n_splits=10, test_size=0.2) \n",
    "#Puedes indicar un train_size si no quieres que se utilicen \n",
    "#todos los datos\n",
    "for train_index, test_index in sp.split(X,y):\n",
    "    # El bucle corre n_splits veces\n",
    "    X_train = X[train_index,:]\n",
    "    y_train = y[train_index]\n",
    "    X_test = X[test_index,:]\n",
    "    y_test = y[test_index]\n",
    "\n",
    "\n",
    "# Validación cruzada: lo veremos más tarde, ya que se utilizan las funciones que entrenan directamente\n",
    "# Altenativa: kFold. Mismo principio que ShuffleSplit\n",
    "kf = KFold(n_splits=20)\n",
    "for train_index, test_index in kf.split(X,y):\n",
    "    # El bucle corre n_splits veces\n",
    "    X_train = X[train_index,:]\n",
    "    y_train = y[train_index]\n",
    "    X_test = X[test_index,:]\n",
    "    y_test = y[test_index]"
   ]
  },
  {
   "cell_type": "markdown",
   "metadata": {},
   "source": [
    "One-hot-encoder\n",
    "\n",
    "Mediante esta función podemos ahorrar espacio a la hora de tratar valores nominales. La función convertirá cada valor de atributo en un bit que será 1 cuando esté activo."
   ]
  },
  {
   "cell_type": "code",
   "execution_count": 14,
   "metadata": {},
   "outputs": [],
   "source": [
    "from sklearn.preprocessing import OneHotEncoder\n",
    "\n",
    "data = Datos('tic-tac-toe.data', predNominal=True)\n",
    "\n",
    "X,y = data.datos[:,:-1], data.datos[:,-1]\n",
    "enc = OneHotEncoder() #Si sparse matrix está a True (Default) se forma una matriz donde solo se tienen en cuenta\n",
    "                        # los valores distintos de cero\n",
    "X_new = enc.fit_transform(X)"
   ]
  },
  {
   "cell_type": "markdown",
   "metadata": {},
   "source": [
    "Naive-Bayes discreto"
   ]
  },
  {
   "cell_type": "code",
   "execution_count": 25,
   "metadata": {},
   "outputs": [
    {
     "data": {
      "text/plain": [
       "0.6614583333333334"
      ]
     },
     "execution_count": 25,
     "metadata": {},
     "output_type": "execute_result"
    }
   ],
   "source": [
    "from sklearn.naive_bayes import MultinomialNB\n",
    "\n",
    "data = Datos('tic-tac-toe.data', predNominal=True)\n",
    "\n",
    "X,y = data.datos[:,:-1], data.datos[:,-1].astype('int')\n",
    "X_train, X_test, y_train, y_test = train_test_split(X,y,test_size=0.2)\n",
    "mult = MultinomialNB()\n",
    "mult.fit(X_train,y_train)\n",
    "mult.score(X_test,y_test)\n"
   ]
  },
  {
   "cell_type": "markdown",
   "metadata": {},
   "source": [
    "Naive-Bayes continuo"
   ]
  },
  {
   "cell_type": "code",
   "execution_count": 34,
   "metadata": {},
   "outputs": [
    {
     "data": {
      "text/plain": [
       "0.66875"
      ]
     },
     "execution_count": 34,
     "metadata": {},
     "output_type": "execute_result"
    }
   ],
   "source": [
    "from sklearn.naive_bayes import GaussianNB\n",
    "\n",
    "data = Datos('german.data', predNominal=True)\n",
    "\n",
    "X,y = data.datos[:,:-1], data.datos[:,-1].astype('int')\n",
    "X_train, X_test, y_train, y_test = train_test_split(X,y,test_size=0.8)\n",
    "\n",
    "gauss = GaussianNB()\n",
    "gauss.fit(X_train,y_train)\n",
    "gauss.score(X_test, y_test)"
   ]
  },
  {
   "cell_type": "code",
   "execution_count": null,
   "metadata": {},
   "outputs": [],
   "source": []
  }
 ],
 "metadata": {
  "kernelspec": {
   "display_name": "Python 3",
   "language": "python",
   "name": "python3"
  },
  "language_info": {
   "codemirror_mode": {
    "name": "ipython",
    "version": 3
   },
   "file_extension": ".py",
   "mimetype": "text/x-python",
   "name": "python",
   "nbconvert_exporter": "python",
   "pygments_lexer": "ipython3",
   "version": "3.8.3"
  }
 },
 "nbformat": 4,
 "nbformat_minor": 4
}
