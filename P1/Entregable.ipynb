{
 "cells": [
  {
   "cell_type": "markdown",
   "metadata": {},
   "source": [
    "# FAA: Práctica 1\n",
    "\n",
    "### Autores: David Cabornero Pascual y Mario García Pascual\n",
    "\n",
    "## 0. Introducción\n",
    "\n",
    "La práctica 1 consiste en implementar en Python los elementos necesarios para poder manejar conjuntos de datos, estrategias de particionado y clasificadores. Después hay que probar que su funcionamiento es correcto, comparar los resultados con el de los métodos de scikit-learn, y por último ver la curva ROC de los clasificadores.\n",
    "\n",
    "Para solucionar el problema de que la última columna de los datos German no sea categórica hemos tenido que modificar la clase Datos. La modificación consiste en añadir el argumento opcional predNominal al constructor de Datos, que en caso de ser True fuerza a la última columna a ser de tipo nominal."
   ]
  },
  {
   "cell_type": "code",
   "execution_count": 1,
   "metadata": {},
   "outputs": [],
   "source": [
    "import numpy as np\n",
    "import matplotlib.pyplot as plt\n",
    "from Clasificador import Clasificador, ClasificadorNaiveBayes\n",
    "from Datos import Datos\n",
    "from EstrategiaParticionado import ValidacionSimple, ValidacionCruzada\n",
    "\n",
    "from sklearn.naive_bayes import MultinomialNB, GaussianNB\n",
    "from sklearn.model_selection import cross_val_score, train_test_split\n",
    "from sklearn.preprocessing import OneHotEncoder\n",
    "\n",
    "from astropy.table import QTable, Table, Column\n",
    "\n",
    "datosGerman = Datos('german.data',predNominal=True)\n",
    "datosTic = Datos('tic-tac-toe.data',predNominal=True)\n",
    "\n",
    "cl = ClasificadorNaiveBayes()\n",
    "cll = ClasificadorNaiveBayes(laplace=True)"
   ]
  },
  {
   "cell_type": "markdown",
   "metadata": {},
   "source": [
    "## 1. Particionado"
   ]
  },
  {
   "cell_type": "markdown",
   "metadata": {},
   "source": [
    "En esta sección comprobamos que funcionan correctamente las estrategias de particionado. Dado que la cantidad de datos es lo único que importa para realizar las particiones, probamos el funcionamiento sólo para German."
   ]
  },
  {
   "cell_type": "code",
   "execution_count": 2,
   "metadata": {},
   "outputs": [],
   "source": [
    "def showParticiones(val,datos):\n",
    "    val.creaParticiones(datos)\n",
    "    print('Número de particiones: ', len(val.particiones))\n",
    "    for i in range(len(val.particiones)):\n",
    "        print('Partición número ', i)\n",
    "        print('Número de índices del trainSet:')\n",
    "        print(len(val.particiones[i].indicesTrain))\n",
    "        print('Número de índices del testSet:')\n",
    "        print(len(val.particiones[i].indicesTest))\n",
    "        print()\n",
    "    # Vamos a probar a unir indicesTrain e indicesTest de una partición, ordenarlos\n",
    "    # e imprimirlos, para comprobar que salen todos los indices\n",
    "    print(sorted(val.particiones[0].indicesTest + val.particiones[0].indicesTrain))"
   ]
  },
  {
   "cell_type": "markdown",
   "metadata": {},
   "source": [
    "El método showParticiones imprime el número de indices de Train y Test de cada partición, y después imprime el array ordenado resultante de unir las dos listas de índices."
   ]
  },
  {
   "cell_type": "code",
   "execution_count": 3,
   "metadata": {},
   "outputs": [
    {
     "name": "stdout",
     "output_type": "stream",
     "text": [
      "Particionado simple:\n",
      "Número de particiones:  10\n",
      "Partición número  0\n",
      "Número de índices del trainSet:\n",
      "800\n",
      "Número de índices del testSet:\n",
      "200\n",
      "\n",
      "Partición número  1\n",
      "Número de índices del trainSet:\n",
      "800\n",
      "Número de índices del testSet:\n",
      "200\n",
      "\n",
      "Partición número  2\n",
      "Número de índices del trainSet:\n",
      "800\n",
      "Número de índices del testSet:\n",
      "200\n",
      "\n",
      "Partición número  3\n",
      "Número de índices del trainSet:\n",
      "800\n",
      "Número de índices del testSet:\n",
      "200\n",
      "\n",
      "Partición número  4\n",
      "Número de índices del trainSet:\n",
      "800\n",
      "Número de índices del testSet:\n",
      "200\n",
      "\n",
      "Partición número  5\n",
      "Número de índices del trainSet:\n",
      "800\n",
      "Número de índices del testSet:\n",
      "200\n",
      "\n",
      "Partición número  6\n",
      "Número de índices del trainSet:\n",
      "800\n",
      "Número de índices del testSet:\n",
      "200\n",
      "\n",
      "Partición número  7\n",
      "Número de índices del trainSet:\n",
      "800\n",
      "Número de índices del testSet:\n",
      "200\n",
      "\n",
      "Partición número  8\n",
      "Número de índices del trainSet:\n",
      "800\n",
      "Número de índices del testSet:\n",
      "200\n",
      "\n",
      "Partición número  9\n",
      "Número de índices del trainSet:\n",
      "800\n",
      "Número de índices del testSet:\n",
      "200\n",
      "\n",
      "[0, 1, 2, 3, 4, 5, 6, 7, 8, 9, 10, 11, 12, 13, 14, 15, 16, 17, 18, 19, 20, 21, 22, 23, 24, 25, 26, 27, 28, 29, 30, 31, 32, 33, 34, 35, 36, 37, 38, 39, 40, 41, 42, 43, 44, 45, 46, 47, 48, 49, 50, 51, 52, 53, 54, 55, 56, 57, 58, 59, 60, 61, 62, 63, 64, 65, 66, 67, 68, 69, 70, 71, 72, 73, 74, 75, 76, 77, 78, 79, 80, 81, 82, 83, 84, 85, 86, 87, 88, 89, 90, 91, 92, 93, 94, 95, 96, 97, 98, 99, 100, 101, 102, 103, 104, 105, 106, 107, 108, 109, 110, 111, 112, 113, 114, 115, 116, 117, 118, 119, 120, 121, 122, 123, 124, 125, 126, 127, 128, 129, 130, 131, 132, 133, 134, 135, 136, 137, 138, 139, 140, 141, 142, 143, 144, 145, 146, 147, 148, 149, 150, 151, 152, 153, 154, 155, 156, 157, 158, 159, 160, 161, 162, 163, 164, 165, 166, 167, 168, 169, 170, 171, 172, 173, 174, 175, 176, 177, 178, 179, 180, 181, 182, 183, 184, 185, 186, 187, 188, 189, 190, 191, 192, 193, 194, 195, 196, 197, 198, 199, 200, 201, 202, 203, 204, 205, 206, 207, 208, 209, 210, 211, 212, 213, 214, 215, 216, 217, 218, 219, 220, 221, 222, 223, 224, 225, 226, 227, 228, 229, 230, 231, 232, 233, 234, 235, 236, 237, 238, 239, 240, 241, 242, 243, 244, 245, 246, 247, 248, 249, 250, 251, 252, 253, 254, 255, 256, 257, 258, 259, 260, 261, 262, 263, 264, 265, 266, 267, 268, 269, 270, 271, 272, 273, 274, 275, 276, 277, 278, 279, 280, 281, 282, 283, 284, 285, 286, 287, 288, 289, 290, 291, 292, 293, 294, 295, 296, 297, 298, 299, 300, 301, 302, 303, 304, 305, 306, 307, 308, 309, 310, 311, 312, 313, 314, 315, 316, 317, 318, 319, 320, 321, 322, 323, 324, 325, 326, 327, 328, 329, 330, 331, 332, 333, 334, 335, 336, 337, 338, 339, 340, 341, 342, 343, 344, 345, 346, 347, 348, 349, 350, 351, 352, 353, 354, 355, 356, 357, 358, 359, 360, 361, 362, 363, 364, 365, 366, 367, 368, 369, 370, 371, 372, 373, 374, 375, 376, 377, 378, 379, 380, 381, 382, 383, 384, 385, 386, 387, 388, 389, 390, 391, 392, 393, 394, 395, 396, 397, 398, 399, 400, 401, 402, 403, 404, 405, 406, 407, 408, 409, 410, 411, 412, 413, 414, 415, 416, 417, 418, 419, 420, 421, 422, 423, 424, 425, 426, 427, 428, 429, 430, 431, 432, 433, 434, 435, 436, 437, 438, 439, 440, 441, 442, 443, 444, 445, 446, 447, 448, 449, 450, 451, 452, 453, 454, 455, 456, 457, 458, 459, 460, 461, 462, 463, 464, 465, 466, 467, 468, 469, 470, 471, 472, 473, 474, 475, 476, 477, 478, 479, 480, 481, 482, 483, 484, 485, 486, 487, 488, 489, 490, 491, 492, 493, 494, 495, 496, 497, 498, 499, 500, 501, 502, 503, 504, 505, 506, 507, 508, 509, 510, 511, 512, 513, 514, 515, 516, 517, 518, 519, 520, 521, 522, 523, 524, 525, 526, 527, 528, 529, 530, 531, 532, 533, 534, 535, 536, 537, 538, 539, 540, 541, 542, 543, 544, 545, 546, 547, 548, 549, 550, 551, 552, 553, 554, 555, 556, 557, 558, 559, 560, 561, 562, 563, 564, 565, 566, 567, 568, 569, 570, 571, 572, 573, 574, 575, 576, 577, 578, 579, 580, 581, 582, 583, 584, 585, 586, 587, 588, 589, 590, 591, 592, 593, 594, 595, 596, 597, 598, 599, 600, 601, 602, 603, 604, 605, 606, 607, 608, 609, 610, 611, 612, 613, 614, 615, 616, 617, 618, 619, 620, 621, 622, 623, 624, 625, 626, 627, 628, 629, 630, 631, 632, 633, 634, 635, 636, 637, 638, 639, 640, 641, 642, 643, 644, 645, 646, 647, 648, 649, 650, 651, 652, 653, 654, 655, 656, 657, 658, 659, 660, 661, 662, 663, 664, 665, 666, 667, 668, 669, 670, 671, 672, 673, 674, 675, 676, 677, 678, 679, 680, 681, 682, 683, 684, 685, 686, 687, 688, 689, 690, 691, 692, 693, 694, 695, 696, 697, 698, 699, 700, 701, 702, 703, 704, 705, 706, 707, 708, 709, 710, 711, 712, 713, 714, 715, 716, 717, 718, 719, 720, 721, 722, 723, 724, 725, 726, 727, 728, 729, 730, 731, 732, 733, 734, 735, 736, 737, 738, 739, 740, 741, 742, 743, 744, 745, 746, 747, 748, 749, 750, 751, 752, 753, 754, 755, 756, 757, 758, 759, 760, 761, 762, 763, 764, 765, 766, 767, 768, 769, 770, 771, 772, 773, 774, 775, 776, 777, 778, 779, 780, 781, 782, 783, 784, 785, 786, 787, 788, 789, 790, 791, 792, 793, 794, 795, 796, 797, 798, 799, 800, 801, 802, 803, 804, 805, 806, 807, 808, 809, 810, 811, 812, 813, 814, 815, 816, 817, 818, 819, 820, 821, 822, 823, 824, 825, 826, 827, 828, 829, 830, 831, 832, 833, 834, 835, 836, 837, 838, 839, 840, 841, 842, 843, 844, 845, 846, 847, 848, 849, 850, 851, 852, 853, 854, 855, 856, 857, 858, 859, 860, 861, 862, 863, 864, 865, 866, 867, 868, 869, 870, 871, 872, 873, 874, 875, 876, 877, 878, 879, 880, 881, 882, 883, 884, 885, 886, 887, 888, 889, 890, 891, 892, 893, 894, 895, 896, 897, 898, 899, 900, 901, 902, 903, 904, 905, 906, 907, 908, 909, 910, 911, 912, 913, 914, 915, 916, 917, 918, 919, 920, 921, 922, 923, 924, 925, 926, 927, 928, 929, 930, 931, 932, 933, 934, 935, 936, 937, 938, 939, 940, 941, 942, 943, 944, 945, 946, 947, 948, 949, 950, 951, 952, 953, 954, 955, 956, 957, 958, 959, 960, 961, 962, 963, 964, 965, 966, 967, 968, 969, 970, 971, 972, 973, 974, 975, 976, 977, 978, 979, 980, 981, 982, 983, 984, 985, 986, 987, 988, 989, 990, 991, 992, 993, 994, 995, 996, 997, 998, 999]\n",
      "\n",
      "\n",
      "\n",
      "Particionado cruzado:\n",
      "Número de particiones:  6\n",
      "Partición número  0\n",
      "Número de índices del trainSet:\n",
      "834\n",
      "Número de índices del testSet:\n",
      "166\n",
      "\n",
      "Partición número  1\n",
      "Número de índices del trainSet:\n",
      "834\n",
      "Número de índices del testSet:\n",
      "166\n",
      "\n",
      "Partición número  2\n",
      "Número de índices del trainSet:\n",
      "834\n",
      "Número de índices del testSet:\n",
      "166\n",
      "\n",
      "Partición número  3\n",
      "Número de índices del trainSet:\n",
      "834\n",
      "Número de índices del testSet:\n",
      "166\n",
      "\n",
      "Partición número  4\n",
      "Número de índices del trainSet:\n",
      "834\n",
      "Número de índices del testSet:\n",
      "166\n",
      "\n",
      "Partición número  5\n",
      "Número de índices del trainSet:\n",
      "830\n",
      "Número de índices del testSet:\n",
      "170\n",
      "\n",
      "[0, 1, 2, 3, 4, 5, 6, 7, 8, 9, 10, 11, 12, 13, 14, 15, 16, 17, 18, 19, 20, 21, 22, 23, 24, 25, 26, 27, 28, 29, 30, 31, 32, 33, 34, 35, 36, 37, 38, 39, 40, 41, 42, 43, 44, 45, 46, 47, 48, 49, 50, 51, 52, 53, 54, 55, 56, 57, 58, 59, 60, 61, 62, 63, 64, 65, 66, 67, 68, 69, 70, 71, 72, 73, 74, 75, 76, 77, 78, 79, 80, 81, 82, 83, 84, 85, 86, 87, 88, 89, 90, 91, 92, 93, 94, 95, 96, 97, 98, 99, 100, 101, 102, 103, 104, 105, 106, 107, 108, 109, 110, 111, 112, 113, 114, 115, 116, 117, 118, 119, 120, 121, 122, 123, 124, 125, 126, 127, 128, 129, 130, 131, 132, 133, 134, 135, 136, 137, 138, 139, 140, 141, 142, 143, 144, 145, 146, 147, 148, 149, 150, 151, 152, 153, 154, 155, 156, 157, 158, 159, 160, 161, 162, 163, 164, 165, 166, 167, 168, 169, 170, 171, 172, 173, 174, 175, 176, 177, 178, 179, 180, 181, 182, 183, 184, 185, 186, 187, 188, 189, 190, 191, 192, 193, 194, 195, 196, 197, 198, 199, 200, 201, 202, 203, 204, 205, 206, 207, 208, 209, 210, 211, 212, 213, 214, 215, 216, 217, 218, 219, 220, 221, 222, 223, 224, 225, 226, 227, 228, 229, 230, 231, 232, 233, 234, 235, 236, 237, 238, 239, 240, 241, 242, 243, 244, 245, 246, 247, 248, 249, 250, 251, 252, 253, 254, 255, 256, 257, 258, 259, 260, 261, 262, 263, 264, 265, 266, 267, 268, 269, 270, 271, 272, 273, 274, 275, 276, 277, 278, 279, 280, 281, 282, 283, 284, 285, 286, 287, 288, 289, 290, 291, 292, 293, 294, 295, 296, 297, 298, 299, 300, 301, 302, 303, 304, 305, 306, 307, 308, 309, 310, 311, 312, 313, 314, 315, 316, 317, 318, 319, 320, 321, 322, 323, 324, 325, 326, 327, 328, 329, 330, 331, 332, 333, 334, 335, 336, 337, 338, 339, 340, 341, 342, 343, 344, 345, 346, 347, 348, 349, 350, 351, 352, 353, 354, 355, 356, 357, 358, 359, 360, 361, 362, 363, 364, 365, 366, 367, 368, 369, 370, 371, 372, 373, 374, 375, 376, 377, 378, 379, 380, 381, 382, 383, 384, 385, 386, 387, 388, 389, 390, 391, 392, 393, 394, 395, 396, 397, 398, 399, 400, 401, 402, 403, 404, 405, 406, 407, 408, 409, 410, 411, 412, 413, 414, 415, 416, 417, 418, 419, 420, 421, 422, 423, 424, 425, 426, 427, 428, 429, 430, 431, 432, 433, 434, 435, 436, 437, 438, 439, 440, 441, 442, 443, 444, 445, 446, 447, 448, 449, 450, 451, 452, 453, 454, 455, 456, 457, 458, 459, 460, 461, 462, 463, 464, 465, 466, 467, 468, 469, 470, 471, 472, 473, 474, 475, 476, 477, 478, 479, 480, 481, 482, 483, 484, 485, 486, 487, 488, 489, 490, 491, 492, 493, 494, 495, 496, 497, 498, 499, 500, 501, 502, 503, 504, 505, 506, 507, 508, 509, 510, 511, 512, 513, 514, 515, 516, 517, 518, 519, 520, 521, 522, 523, 524, 525, 526, 527, 528, 529, 530, 531, 532, 533, 534, 535, 536, 537, 538, 539, 540, 541, 542, 543, 544, 545, 546, 547, 548, 549, 550, 551, 552, 553, 554, 555, 556, 557, 558, 559, 560, 561, 562, 563, 564, 565, 566, 567, 568, 569, 570, 571, 572, 573, 574, 575, 576, 577, 578, 579, 580, 581, 582, 583, 584, 585, 586, 587, 588, 589, 590, 591, 592, 593, 594, 595, 596, 597, 598, 599, 600, 601, 602, 603, 604, 605, 606, 607, 608, 609, 610, 611, 612, 613, 614, 615, 616, 617, 618, 619, 620, 621, 622, 623, 624, 625, 626, 627, 628, 629, 630, 631, 632, 633, 634, 635, 636, 637, 638, 639, 640, 641, 642, 643, 644, 645, 646, 647, 648, 649, 650, 651, 652, 653, 654, 655, 656, 657, 658, 659, 660, 661, 662, 663, 664, 665, 666, 667, 668, 669, 670, 671, 672, 673, 674, 675, 676, 677, 678, 679, 680, 681, 682, 683, 684, 685, 686, 687, 688, 689, 690, 691, 692, 693, 694, 695, 696, 697, 698, 699, 700, 701, 702, 703, 704, 705, 706, 707, 708, 709, 710, 711, 712, 713, 714, 715, 716, 717, 718, 719, 720, 721, 722, 723, 724, 725, 726, 727, 728, 729, 730, 731, 732, 733, 734, 735, 736, 737, 738, 739, 740, 741, 742, 743, 744, 745, 746, 747, 748, 749, 750, 751, 752, 753, 754, 755, 756, 757, 758, 759, 760, 761, 762, 763, 764, 765, 766, 767, 768, 769, 770, 771, 772, 773, 774, 775, 776, 777, 778, 779, 780, 781, 782, 783, 784, 785, 786, 787, 788, 789, 790, 791, 792, 793, 794, 795, 796, 797, 798, 799, 800, 801, 802, 803, 804, 805, 806, 807, 808, 809, 810, 811, 812, 813, 814, 815, 816, 817, 818, 819, 820, 821, 822, 823, 824, 825, 826, 827, 828, 829, 830, 831, 832, 833, 834, 835, 836, 837, 838, 839, 840, 841, 842, 843, 844, 845, 846, 847, 848, 849, 850, 851, 852, 853, 854, 855, 856, 857, 858, 859, 860, 861, 862, 863, 864, 865, 866, 867, 868, 869, 870, 871, 872, 873, 874, 875, 876, 877, 878, 879, 880, 881, 882, 883, 884, 885, 886, 887, 888, 889, 890, 891, 892, 893, 894, 895, 896, 897, 898, 899, 900, 901, 902, 903, 904, 905, 906, 907, 908, 909, 910, 911, 912, 913, 914, 915, 916, 917, 918, 919, 920, 921, 922, 923, 924, 925, 926, 927, 928, 929, 930, 931, 932, 933, 934, 935, 936, 937, 938, 939, 940, 941, 942, 943, 944, 945, 946, 947, 948, 949, 950, 951, 952, 953, 954, 955, 956, 957, 958, 959, 960, 961, 962, 963, 964, 965, 966, 967, 968, 969, 970, 971, 972, 973, 974, 975, 976, 977, 978, 979, 980, 981, 982, 983, 984, 985, 986, 987, 988, 989, 990, 991, 992, 993, 994, 995, 996, 997, 998, 999]\n"
     ]
    }
   ],
   "source": [
    "propTest = 0.2 #Proporción de datos destinados al testSet\n",
    "numEx = 20 # Número de ejecuciones de la validación simple\n",
    "print('Particionado simple:')\n",
    "valS = ValidacionSimple(0.2,10)\n",
    "showParticiones(valS,datosGerman)\n",
    "\n",
    "print('\\n\\n')\n",
    "print('Particionado cruzado:')\n",
    "numP = 6 # Número de particiones de la validación cruzada\n",
    "valC = ValidacionCruzada(numP)\n",
    "showParticiones(valC, datosGerman)"
   ]
  },
  {
   "cell_type": "markdown",
   "metadata": {},
   "source": [
    "German tiene 1000 datos. Hacemos la prueba de Validación Simple con una proporción de Test del 20% y 6 10 ejecuciones. Podemos ver que se imprimen 10 particiones con 800 índices de Train y 200 de Test respectivamente, y que la unión de las dos listas son todos los índices. Luego hacemos la prueba de Validación Cruzada con 6 particiones. Vemos que se imprimen 6 particiones con 834 de Train y 166 de Test, excepto la última que partición que tiene 830 y 170. 166 = floor(1000/6), y la última partición sale distinta para compensar que la división 1000/6 no sea exacta."
   ]
  },
  {
   "cell_type": "markdown",
   "metadata": {},
   "source": [
    "Validación Simple separa el conjunto de datos en train y test, entrena con los datos de train y estima el error de generalización con datos test. En su lugar, Validación Cruzada separa el conjunto de datos en K bloques, y para cada uno de los bloques, entrena con los K-1 restantes y estima el error con el bloque. Las ventajas y desventajas son:\n",
    "* Validación Simple (con una ejecución) es computacionalmente menos costoso, pero a cambio desaprovecha algunos datos, que no llegan a usar para entrenar/testear en ningún momento.\n",
    "* Validación Cruzada es mucho más costoso, pero sí aprovecha todos los datos y permite estimar mejor el error de generalización tomando la media de los errores de cada partición\n",
    "\n",
    "Cuando añadimos varias ejecuciones a Validación Simple la diferencia entre ambos tipos de validación se reduce. Pongamos un ejemplo: val. simple con 20% de test y 5 ejecuciones y val. cruzada con 5 bloques. En ambos casos se obtendrían 5 particiones con aprox. 20% de test cada una. La diferencia es que las particiones obtenidas con val. simple son totalmente independientes, mientras que las de val. cruzada tienen interdependientes, pues lo bloques básicos se mantienen. En val. cruzada cada dato se utiliza K-1 veces para entrenamiento y 1 para test; en val. simple no tiene por qué ser así."
   ]
  },
  {
   "cell_type": "markdown",
   "metadata": {},
   "source": [
    "## 2. Naive-Bayes\n",
    "\n",
    "Para aplicar la corrección de Laplace hay que poner el atributo opcional laplace a True en el constructor del clasificador Naive-Bayes. En el código del notebook, cl = Naive-Bayes sin corrección de Laplace, cll = Naive-Bayes con corrección de Laplace.\n",
    "\n",
    "Mostramos dos tablas para cada conjunto de datos, una para el error medio y otra para la desviación típica, con/sin Laplace y según la estrategia de particionado que se ha usado.\n",
    "\n",
    "Para conseguir que los datos obtenidos con validación cruzada y simple sean lo más comparables posibles, hemos decidido probar\n",
    "\n",
    "* Validación Simple con 20% de test y 5 ejecuciones,\n",
    "* Validación Cruzada con 5 particiones,\n",
    "\n",
    "de tal forma que en ambos casos se obtengan 5 particiones con 20% de test en cada una.\n",
    "\n",
    "### 2.1 German"
   ]
  },
  {
   "cell_type": "code",
   "execution_count": 11,
   "metadata": {},
   "outputs": [
    {
     "name": "stdout",
     "output_type": "stream",
     "text": [
      "Tabla de medias: \n",
      "\n",
      "Laplace        Simple       Cruzada\n",
      "------- ------------------- -------\n",
      "     No 0.28500000000000003   0.288\n",
      "     Sí 0.36300000000000004   0.284\n",
      "\n",
      "\n",
      " Tabla de desviaciones típicas:\n",
      "\n",
      "Laplace        Simple             Cruzada       \n",
      "------- ------------------- --------------------\n",
      "     No 0.04604345773288535 0.027676705006196095\n",
      "     Sí 0.08182909018191513 0.025573423705088843\n"
     ]
    }
   ],
   "source": [
    "propTest = 0.2 #Proporción de datos destinados al testSet\n",
    "numEx = 5 # Número de ejecuciones de la validación simple\n",
    "valS = ValidacionSimple(propTest,numEx)\n",
    "\n",
    "# Validación Simple con y sin Laplace\n",
    "errSL = cll.validacion(valS,datosGerman)\n",
    "errS = cl.validacion(valS,datosGerman)\n",
    "\n",
    "numP = 5 # Número de ejecuciones de la validación cruzada\n",
    "valC = ValidacionCruzada(numP)\n",
    "\n",
    "# Validación Cruzada con y sin Laplace\n",
    "errCL = cll.validacion(valC,datosGerman)\n",
    "errC = cl.validacion(valC,datosGerman)\n",
    "\n",
    "print('Tabla de medias: \\n')\n",
    "laplace = ['No','Sí']\n",
    "simple = [np.mean(errS),np.mean(errSL)]\n",
    "cruzada = [np.mean(errC),np.mean(errCL)]\n",
    "t = Table([laplace,simple,cruzada],names=['Laplace','Simple','Cruzada'])\n",
    "print(t)\n",
    "\n",
    "print('\\n\\n Tabla de desviaciones típicas:\\n')\n",
    "laplace = ['No','Sí']\n",
    "simple = [np.std(errS),np.std(errSL)]\n",
    "cruzada = [np.std(errC),np.std(errCL)]\n",
    "t = Table([laplace,simple,cruzada],names=['Laplace','Simple','Cruzada'])\n",
    "print(t)"
   ]
  },
  {
   "cell_type": "markdown",
   "metadata": {},
   "source": [
    "### 2.2 Tic Tac Toe"
   ]
  },
  {
   "cell_type": "code",
   "execution_count": 5,
   "metadata": {},
   "outputs": [
    {
     "name": "stdout",
     "output_type": "stream",
     "text": [
      "Tabla de medias: \n",
      "\n",
      "Laplace        Simple             Cruzada      \n",
      "------- ------------------- -------------------\n",
      "     No 0.29528795811518327  0.3005667404328818\n",
      "     Sí 0.28272251308900526 0.29966535326820315\n",
      "\n",
      "\n",
      "Tabla de desviaciones típicas:\n",
      "\n",
      "Laplace        Simple              Cruzada      \n",
      "------- -------------------- -------------------\n",
      "     No  0.02109889181110983 0.03900423538660027\n",
      "     Sí 0.017521675948357605 0.02421427765247046\n"
     ]
    }
   ],
   "source": [
    "propTest = 0.2 #Proporción de datos destinados al testSet\n",
    "numEx = 5 # Número de ejecuciones de la validación simple\n",
    "valS = ValidacionSimple(propTest,numEx)\n",
    "\n",
    "# Validación Simple con y sin Laplace\n",
    "errSL = cll.validacion(valS,datosTic)\n",
    "errS = cl.validacion(valS,datosTic)\n",
    "\n",
    "numP = 5 # Número de particiones de la validación cruzada\n",
    "valC = ValidacionCruzada(numP)\n",
    "\n",
    "# Validación Cruzada con y sin Laplace\n",
    "errCL = cll.validacion(valC,datosTic)\n",
    "errC = cl.validacion(valC,datosTic)\n",
    "\n",
    "print('Tabla de medias: \\n')\n",
    "laplace = ['No','Sí']\n",
    "simple = [np.mean(errS),np.mean(errSL)]\n",
    "cruzada = [np.mean(errC),np.mean(errCL)]\n",
    "t = Table([laplace,simple,cruzada],names=['Laplace','Simple','Cruzada'])\n",
    "print(t)\n",
    "\n",
    "print('\\n\\nTabla de desviaciones típicas:\\n')\n",
    "laplace = ['No','Sí']\n",
    "simple = [np.std(errS),np.std(errSL)]\n",
    "cruzada = [np.std(errC),np.std(errCL)]\n",
    "t = Table([laplace,simple,cruzada],names=['Laplace','Simple','Cruzada'])\n",
    "print(t)"
   ]
  },
  {
   "cell_type": "markdown",
   "metadata": {},
   "source": [
    "La variación de las medias y las desviaciones típicas están dentro de lo razonable."
   ]
  },
  {
   "cell_type": "markdown",
   "metadata": {},
   "source": [
    "## 3. Scikit-learn\n",
    "### 3. 1 German \n",
    "\n",
    "\n",
    "En la base de datos German aplicaremos el algoritmo de Naive-Bayes continuo, es decir, GaussianNB. Mientras que en tic-tac-toe todos los atributos son discretos, aquí sí que existen atributos continuos. Aunque Scikit-learn nos da herramientas para hacer validación cruzada, no existe un algoritmo para realizar más de una ejecución de validación simple. No será un gran problema, pero tenemos que ir haciendo manualmente cada una de las iteraciones.\n",
    "\n",
    "No aplicaremos Lagrange, ya que solo se aplica al caso discreto. Aunque aquí podemos observar que sale algo mejor la tasa de error respecto a nuestro algoritmo, debemos tener en cuenta que aquí sí que existen diferencias sustanciales. Aquí estamos aplicando la versión continua de Naive-Bayes a los atributos continuos y a los discretos y al parecer esto beneficia al algoritmo. De todas formas, queremos recalar que esto ocurre en este dataset en concreto, y en general es mejor usar el algoritmo correspondiente al tipo de atributo."
   ]
  },
  {
   "cell_type": "code",
   "execution_count": 6,
   "metadata": {},
   "outputs": [
    {
     "name": "stdout",
     "output_type": "stream",
     "text": [
      "Tabla de medias y desviaciones típicas de los errores: \n",
      "\n",
      "Parámetro        Simple             Cruzada      \n",
      "--------- ------------------- -------------------\n",
      "    Media                0.27               0.268\n",
      "D. Típica 0.02569046515733028 0.03264965543462904\n"
     ]
    }
   ],
   "source": [
    "propTest = 0.2 #Proporción de datos destinados al testSet\n",
    "numEx = 5 # Número de ejecuciones de la validación simple\n",
    "# Necesitamos separar atributos de la clasificación\n",
    "X, y = datosGerman.datos[:,:-1], datosGerman.datos[:,-1].astype('int')\n",
    "mult = GaussianNB()\n",
    "errS = []\n",
    "for _ in range(numEx):\n",
    "    X_train, X_test, y_train, y_test = train_test_split(X,y,test_size=propTest)\n",
    "    mult.fit(X_train,y_train)\n",
    "    err = 1 - mult.score(X_test,y_test)\n",
    "    errS.append(err)\n",
    "\n",
    "meanS, stdS = np.mean(errS), np.std(errS)\n",
    "\n",
    "\n",
    "numP = 5 # Número de particiones de la validación cruzada\n",
    "\n",
    "# Validación Cruzada\n",
    "errC = 1 - cross_val_score(mult,X,y,cv=numP)\n",
    "meanC, stdC = np.mean(errC), np.std(errC)\n",
    "\n",
    "print('Tabla de medias y desviaciones típicas de los errores: \\n')\n",
    "param = ['Media','D. Típica']\n",
    "simple = [meanS,stdS]\n",
    "cruzada = [meanC,stdC]\n",
    "t = Table([param,simple,cruzada],names=['Parámetro','Simple','Cruzada'])\n",
    "print(t)"
   ]
  },
  {
   "cell_type": "markdown",
   "metadata": {},
   "source": [
    "### 3. 2 Tic Tac Toe \n",
    "\n",
    "Para el algoritmo Tic-Tac-Toe, todos los atributos son discretos. Por ello, aplicarmos el algoritmo de Scikit-Learn discreto, es decir, MultinomialNB. Mostraremos los resultados con y sin Lagrange (cuando no se aplica Lagrange ponemos un número muy cercano a 0, pero no 0 para evitar errores numéricos).\n",
    "\n",
    "También utilizaremos el algoritmo OneHotEncoder, que codifica los atributos discretos y ayuda a la hora de mejorar la eficiencia del programa. Sin embargo, en este caso Naive-Bayes no tiene en cuenta la diferencia entre los números que sirven de codificación. Por ello, no tiene sentido que este algoritmo mejore el error.\n",
    "\n",
    "Como vemos, la tasa de errores es parecida, aunque algo más constante en la version de Scikit-Learn."
   ]
  },
  {
   "cell_type": "code",
   "execution_count": 7,
   "metadata": {},
   "outputs": [
    {
     "name": "stdout",
     "output_type": "stream",
     "text": [
      "Tabla de medias: \n",
      "\n",
      "Laplace       Simple            Cruzada      \n",
      "------- ------------------ ------------------\n",
      "     No           0.303125 0.3371727748691099\n",
      "     Sí 0.3197916666666667 0.3371727748691099\n",
      "\n",
      "\n",
      "Tabla de desviaciones típicas:\n",
      "\n",
      "Laplace        Simple              Cruzada      \n",
      "------- -------------------- -------------------\n",
      "     No 0.039856513478560396 0.05794563417312506\n",
      "     Sí 0.030654039519921183 0.05794563417312506\n"
     ]
    }
   ],
   "source": [
    "propTest = 0.2 #Proporción de datos destinados al testSet\n",
    "numEx = 5 # Número de ejecuciones de la validación simple\n",
    "# Necesitamos separar atributos de la clasificación\n",
    "X, y = datosTic.datos[:,:-1], datosTic.datos[:,-1].astype('int')\n",
    "#OneHotEncoder\n",
    "enc = OneHotEncoder()\n",
    "X_new = enc.fit_transform(X)\n",
    "\n",
    "multL = MultinomialNB() # Naive-Bayes con Lagrange\n",
    "mult = MultinomialNB(alpha=1.0e-10) #Naive-Bayes sin Lagrange, se aproxima a cero para evitar errores numéricos\n",
    "\n",
    "#Validación simple con Lagrange\n",
    "errSL = []\n",
    "for _ in range(numEx):\n",
    "    X_train, X_test, y_train, y_test = train_test_split(X_new,y,test_size=propTest)\n",
    "    multL.fit(X_train,y_train)\n",
    "    err = 1 - multL.score(X_test,y_test)\n",
    "    errSL.append(err)\n",
    "\n",
    "meanSL, stdSL = np.mean(errSL), np.std(errSL)\n",
    "\n",
    "#Validación simple sin Lagrange\n",
    "errS = []\n",
    "for _ in range(numEx):\n",
    "    X_train, X_test, y_train, y_test = train_test_split(X_new,y,test_size=propTest)\n",
    "    mult.fit(X_train,y_train)\n",
    "    err = 1 - mult.score(X_test,y_test)\n",
    "    errS.append(err)\n",
    "\n",
    "meanS, stdS = np.mean(errS), np.std(errS)\n",
    "\n",
    "numP = 5 # Número de particiones de la validación cruzada\n",
    "\n",
    "# Validación Cruzada con Lagrange\n",
    "errCL = 1 - cross_val_score(multL,X_new,y,cv=numP)\n",
    "meanCL, stdCL = np.mean(errCL), np.std(errCL)\n",
    "\n",
    "# Validación Cruzada sin Lagrange\n",
    "errC = 1 - cross_val_score(mult,X_new,y,cv=numEx)\n",
    "meanC, stdC = np.mean(errC), np.std(errC)\n",
    "\n",
    "#Tablas\n",
    "print('Tabla de medias: \\n')\n",
    "laplace = ['No','Sí']\n",
    "simple = [meanS,meanSL]\n",
    "cruzada = [meanC,meanCL]\n",
    "t = Table([laplace,simple,cruzada],names=['Laplace','Simple','Cruzada'])\n",
    "print(t)\n",
    "\n",
    "print('\\n\\nTabla de desviaciones típicas:\\n')\n",
    "laplace = ['No','Sí']\n",
    "simple = [stdS,stdSL]\n",
    "cruzada = [stdC,stdCL]\n",
    "t = Table([laplace,simple,cruzada],names=['Laplace','Simple','Cruzada'])\n",
    "print(t)"
   ]
  },
  {
   "cell_type": "markdown",
   "metadata": {},
   "source": [
    "## 4. Evaluación de hipótesis mediante análisis ROC\n",
    "\n",
    "Para construir la matriz de confusión hemos implementado el método get_confusion_matrix(particionado,datos) para la clase Clasificador, que devuelve la matriz de confusión del clasificador utilizando el método de particionado indicado. Si es un método de particionado que devuelve más de una partición, se devuelve la suma de todas las matrices de confusión para cada partición. Una vez tenemos la matriz de confusión, la función show_roc_curve obtiene la tasa de verdaderos positivos y la tasa de falsos positivos y las grafica en el espacio ROC uniendo dicho punto con el (0,0) y (1,1).\n",
    "\n",
    "Graficamos las curvas ROC utilizando NB con Laplace y el método de particionado ValidaciónSimple con 30% de test y 10 ejecuciones para estimar con más precisión el los errores cometidos."
   ]
  },
  {
   "cell_type": "code",
   "execution_count": 8,
   "metadata": {},
   "outputs": [],
   "source": [
    "def show_roc_curve(conf_mat, name):\n",
    "    err = (conf_mat[0,1] + conf_mat[1,0])/np.sum(conf_mat)\n",
    "    print(\"Matriz de confusión:\")\n",
    "    print(conf_mat)\n",
    "    print(\"Tasa de error total: \",err)\n",
    "    tpr = conf_mat[0,0] / np.sum(conf_mat[0])\n",
    "    fpr = conf_mat[1,0] / np.sum(conf_mat[1])\n",
    "    print(\"Tasa de verdaderos positivos (TPR): \",tpr)\n",
    "    print(\"Tasa de falsos positivos (FPR): \", fpr)\n",
    "    x = [0, fpr, 1]\n",
    "    y = [0, tpr, 1]\n",
    "    plt.plot(x,y, color='r')\n",
    "    plt.title(\"Curva ROC de\")\n",
    "    plt.xlabel(\"Tasa de falsos positivos (FPR)\")\n",
    "    plt.ylabel(\"Tasa de verdaderos positivos (TPR)\")\n",
    "    plt.show()"
   ]
  },
  {
   "cell_type": "code",
   "execution_count": 10,
   "metadata": {},
   "outputs": [
    {
     "name": "stdout",
     "output_type": "stream",
     "text": [
      "Curva ROC de tic-tac-toe\n",
      "Matriz de confusión:\n",
      "[[1581.  251.]\n",
      " [ 617.  421.]]\n",
      "Tasa de error total:  0.3024390243902439\n",
      "Tasa de verdaderos positivos (TPR):  0.8629912663755459\n",
      "Tasa de falsos positivos (FPR):  0.594412331406551\n"
     ]
    },
    {
     "data": {
      "image/png": "[encoded data removed]",
      "text/plain": [
       "<matplotlib.figure.Figure at 0x7f71c996d438>"
      ]
     },
     "metadata": {
      "needs_background": "light"
     },
     "output_type": "display_data"
    },
    {
     "name": "stdout",
     "output_type": "stream",
     "text": [
      "Curva ROC de german\n",
      "Matriz de confusión:\n",
      "[[ 163.  719.]\n",
      " [ 226. 1892.]]\n",
      "Tasa de error total:  0.315\n",
      "Tasa de verdaderos positivos (TPR):  0.18480725623582767\n",
      "Tasa de falsos positivos (FPR):  0.10670443814919736\n"
     ]
    },
    {
     "data": {
      "image/png": "[encoded data removed]",
      "text/plain": [
       "<matplotlib.figure.Figure at 0x7f71c7814828>"
      ]
     },
     "metadata": {
      "needs_background": "light"
     },
     "output_type": "display_data"
    }
   ],
   "source": [
    "particionado = ValidacionSimple(0.3, numeroEjecuciones=10)\n",
    "\n",
    "# Muestra la curva ROC de tic-tac-toe\n",
    "print(\"Curva ROC de tic-tac-toe\")\n",
    "conf_mat = cll.get_confusion_matrix(particionado,datosTic)\n",
    "show_roc_curve(conf_mat, \"tic-tac-toe usando NB con Laplace y Validación Simple\")\n",
    "# Muestra la curva ROC de german\n",
    "print(\"Curva ROC de german\")\n",
    "conf_mat = cll.get_confusion_matrix(particionado,datosGerman)\n",
    "show_roc_curve(conf_mat, \"german usando NB con Laplace y Validación Simple\")"
   ]
  }
 ],
 "metadata": {
  "kernelspec": {
   "display_name": "Python 3",
   "language": "python",
   "name": "python3"
  },
  "language_info": {
   "codemirror_mode": {
    "name": "ipython",
    "version": 3
   },
   "file_extension": ".py",
   "mimetype": "text/x-python",
   "name": "python",
   "nbconvert_exporter": "python",
   "pygments_lexer": "ipython3",
   "version": "3.6.9"
  }
 },
 "nbformat": 4,
 "nbformat_minor": 4
}
